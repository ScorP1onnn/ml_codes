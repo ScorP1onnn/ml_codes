{
 "cells": [
  {
   "cell_type": "code",
   "execution_count": 1,
   "id": "d1ef1181-3244-4077-a907-45fd46e93ace",
   "metadata": {},
   "outputs": [],
   "source": [
    "import os\n",
    "from astroquery.sdss import SDSS\n",
    "from astropy.table import Table\n",
    "import numpy as np\n",
    "import pandas as pd\n",
    "from tqdm.notebook import tqdm\n",
    "import matplotlib.pyplot as plt\n",
    "import time\n",
    "from astroquery.vizier import Vizier\n",
    "from http.client import RemoteDisconnected\n",
    "from urllib.error import ContentTooShortError"
   ]
  },
  {
   "cell_type": "code",
   "execution_count": 2,
   "id": "7c5db57d-a040-4c22-b89b-f69cb7ed5eb4",
   "metadata": {},
   "outputs": [],
   "source": [
    "file_name = 'final_flux.csv'\n",
    "if not os.path.exists(file_name):\n",
    "    final_flux = np.asarray([])\n",
    "    final_wavelength = np.asarray([])\n",
    "else:\n",
    "    final_flux = np.loadtxt(file_name,delimeter=',')"
   ]
  },
  {
   "cell_type": "code",
   "execution_count": 3,
   "id": "528ec164-afe8-4995-8b7f-2743b4f24f76",
   "metadata": {},
   "outputs": [],
   "source": [
    "df_combined = pd.read_csv(\"df_combined.csv\")"
   ]
  },
  {
   "cell_type": "code",
   "execution_count": 4,
   "id": "cf02e39e-871e-40fa-bb8e-4119eec80b46",
   "metadata": {},
   "outputs": [
    {
     "data": {
      "text/plain": [
       "(45000, 5)"
      ]
     },
     "execution_count": 4,
     "metadata": {},
     "output_type": "execute_result"
    }
   ],
   "source": [
    "df_combined.shape"
   ]
  },
  {
   "cell_type": "code",
   "execution_count": 5,
   "id": "d3d07e9b-4ea1-427d-8eb7-baba918f5f04",
   "metadata": {},
   "outputs": [
    {
     "data": {
      "text/plain": [
       "(0,)"
      ]
     },
     "execution_count": 5,
     "metadata": {},
     "output_type": "execute_result"
    }
   ],
   "source": [
    "final_flux.shape"
   ]
  },
  {
   "cell_type": "code",
   "execution_count": null,
   "id": "0a63e453-5448-46b7-b6ee-f97a225752a6",
   "metadata": {},
   "outputs": [
    {
     "data": {
      "application/vnd.jupyter.widget-view+json": {
       "model_id": "2e9d317cef1141c2a7d901b959fe59ac",
       "version_major": 2,
       "version_minor": 0
      },
      "text/plain": [
       "  0%|          | 0/10 [00:00<?, ?it/s]"
      ]
     },
     "metadata": {},
     "output_type": "display_data"
    }
   ],
   "source": [
    "wavelength_check = []\n",
    "no_spectra = []\n",
    "for i in tqdm(range(final_flux.shape[0],final_flux.shape[0]+10)):\n",
    "    if i >= df_combined.shape[0]:\n",
    "        print(\"df_combined complete\")\n",
    "        break\n",
    "    \n",
    "    sp = SDSS.get_spectra(plate = df_combined['plate'][i],mjd=df_combined['mjd'][i],fiberID=df_combined['fiberid'][i], data_release=17, timeout=120, cache=False)\n",
    "\n",
    "    if sp == None:\n",
    "        fail = [df_combined['plate'][i], df_combined['mjd'][i], df_combined['fiberid'][i]]\n",
    "        no_spectra.append(fail)\n",
    "        del fail\n",
    "        continue\n",
    "\n",
    "\n",
    "    hdu_list = sp[0]\n",
    "    data = hdu_list[1].data\n",
    "\n",
    "    wavelength = 10**data['loglam']  # Convert from log wavelength to wavelength\n",
    "    flux = data['flux']\n",
    "\n",
    "    wavelength = np.asarray(wavelength[0:4000]).astype('float64')\n",
    "    flux = np.asarray(flux[0:4000]).astype('float64')\n",
    "\n",
    "    if len(final_wavelength)<len(wavelength):\n",
    "        del final_wavelength\n",
    "        final_wavelength = wavelength\n",
    "\n",
    "    \"\"\"\n",
    "    if i == 0:\n",
    "        small_wavelength = len(wavelength)\n",
    "        final_wavelength = wavelength\n",
    "        c = 0\n",
    "    \n",
    "    if i!=0 and small_wavelength<len(wavelength):\n",
    "        final_wavelength = wavelength\n",
    "        c = i\n",
    "    \"\"\"\n",
    "\n",
    "\n",
    "    wavelength_check.append(wavelength)\n",
    "    final_flux.append(flux)\n",
    "    \n",
    "    del sp\n",
    "    del wavelength\n",
    "    del flux\n",
    "    del hdu_list\n",
    "    del data\n",
    "\n",
    "\n",
    "    "
   ]
  },
  {
   "cell_type": "code",
   "execution_count": null,
   "id": "227eec2e-0c8d-4dfe-a917-dd734922cf49",
   "metadata": {},
   "outputs": [],
   "source": [
    "final_flux"
   ]
  }
 ],
 "metadata": {
  "kernelspec": {
   "display_name": "Python 3 (ipykernel)",
   "language": "python",
   "name": "python3"
  },
  "language_info": {
   "codemirror_mode": {
    "name": "ipython",
    "version": 3
   },
   "file_extension": ".py",
   "mimetype": "text/x-python",
   "name": "python",
   "nbconvert_exporter": "python",
   "pygments_lexer": "ipython3",
   "version": "3.12.4"
  }
 },
 "nbformat": 4,
 "nbformat_minor": 5
}
