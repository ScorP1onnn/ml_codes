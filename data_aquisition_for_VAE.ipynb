{
 "cells": [
  {
   "cell_type": "code",
   "execution_count": 408,
   "metadata": {},
   "outputs": [],
   "source": [
    "from astroquery.sdss import SDSS\n",
    "from astropy.table import Table\n",
    "import numpy as np\n",
    "import pandas as pd\n",
    "from tqdm import tqdm\n",
    "import matplotlib.pyplot as plt\n",
    "import time\n",
    "from astroquery.vizier import Vizier\n",
    "from http.client import RemoteDisconnected\n",
    "from urllib.error import ContentTooShortError"
   ]
  },
  {
   "cell_type": "code",
   "execution_count": 409,
   "metadata": {},
   "outputs": [
    {
     "name": "stdout",
     "output_type": "stream",
     "text": [
      "/home/sai/.astropy/cache/astroquery/Vizier\n"
     ]
    }
   ],
   "source": [
    "print(Vizier.cache_location)"
   ]
  },
  {
   "cell_type": "code",
   "execution_count": 410,
   "metadata": {},
   "outputs": [],
   "source": [
    "query_1 = \"\"\"\n",
    "SELECT TOP 10000\n",
    "specObjID, plate, mjd, fiberid, z as redshift\n",
    "FROM SpecObj\n",
    "WHERE class = 'QSO' AND zWarning = 0 AND 1.0<z AND z<2.0 AND snMedian>5\n",
    "\"\"\"\n",
    "\n",
    "query_20=\"\"\"\n",
    "SELECT TOP 10000\n",
    "specObjID, plate, mjd, fiberid, z as redshift\n",
    "FROM SpecObj\n",
    "WHERE class = 'QSO' AND zWarning = 0 AND 2.0<z AND z<2.3 AND snMedian>5\n",
    "\"\"\"\n",
    "\n",
    "query_21=\"\"\"\n",
    "SELECT TOP 10000\n",
    "specObjID, plate, mjd, fiberid, z as redshift\n",
    "FROM SpecObj\n",
    "WHERE class = 'QSO' AND zWarning = 0 AND 2.3<z AND z<2.6 AND snMedian>5\n",
    "\"\"\"\n",
    "\n",
    "query_22=\"\"\"\n",
    "SELECT TOP 5000\n",
    "specObjID, plate, mjd, fiberid, z as redshift\n",
    "FROM SpecObj\n",
    "WHERE class = 'QSO' AND zWarning = 0 AND 2.6<z AND z<3.0 AND snMedian>5\n",
    "\"\"\"\n",
    "\n",
    "\n",
    "query_3 = \"\"\"\n",
    "SELECT TOP 10000\n",
    "specObjID, plate, mjd, fiberid, z as redshift\n",
    "FROM SpecObj\n",
    "WHERE class = 'QSO' AND zWarning = 0 AND 3.0<z AND z<4.0 AND snMedian>4.5\n",
    "ORDER BY NEWID()\n",
    "\"\"\"\n"
   ]
  },
  {
   "cell_type": "code",
   "execution_count": 411,
   "metadata": {},
   "outputs": [
    {
     "name": "stderr",
     "output_type": "stream",
     "text": [
      "WARNING: OverflowError converting to IntType in column specObjID, reverting to String. [astropy.io.ascii.fastbasic]\n",
      "WARNING: OverflowError converting to IntType in column specObjID, reverting to String. [astropy.io.ascii.fastbasic]\n",
      "WARNING: OverflowError converting to IntType in column specObjID, reverting to String. [astropy.io.ascii.fastbasic]\n",
      "WARNING: OverflowError converting to IntType in column specObjID, reverting to String. [astropy.io.ascii.fastbasic]\n",
      "WARNING: OverflowError converting to IntType in column specObjID, reverting to String. [astropy.io.ascii.fastbasic]\n"
     ]
    }
   ],
   "source": [
    "table_1 = SDSS.query_sql(query_1, data_release=17)\n",
    "\n",
    "table_20 = SDSS.query_sql(query_20, data_release=17)\n",
    "table_21 = SDSS.query_sql(query_21, data_release=17)\n",
    "table_22 = SDSS.query_sql(query_22, data_release=17)\n",
    "\n",
    "table_3 = SDSS.query_sql(query_3, data_release=17)"
   ]
  },
  {
   "cell_type": "code",
   "execution_count": 412,
   "metadata": {},
   "outputs": [
    {
     "data": {
      "text/html": [
       "<div><i>Table length=10000</i>\n",
       "<table id=\"table128629745217952\" class=\"table-striped table-bordered table-condensed\">\n",
       "<thead><tr><th>specObjID</th><th>plate</th><th>mjd</th><th>fiberid</th><th>redshift</th></tr></thead>\n",
       "<thead><tr><th>uint64</th><th>int64</th><th>int64</th><th>int64</th><th>float64</th></tr></thead>\n",
       "<tr><td>8596248104856213504</td><td>7635</td><td>56979</td><td>8</td><td>1.867679</td></tr>\n",
       "<tr><td>8596249204367841280</td><td>7635</td><td>56979</td><td>12</td><td>1.064881</td></tr>\n",
       "<tr><td>8596251678269003776</td><td>7635</td><td>56979</td><td>21</td><td>1.502078</td></tr>\n",
       "<tr><td>8596252502902724608</td><td>7635</td><td>56979</td><td>24</td><td>1.637638</td></tr>\n",
       "<tr><td>8596255801437607936</td><td>7635</td><td>56979</td><td>36</td><td>1.343358</td></tr>\n",
       "<tr><td>8596259649728305152</td><td>7635</td><td>56979</td><td>50</td><td>1.117227</td></tr>\n",
       "<tr><td>2028880768280848384</td><td>1802</td><td>53885</td><td>33</td><td>1.637825</td></tr>\n",
       "<tr><td>2028888189984335872</td><td>1802</td><td>53885</td><td>60</td><td>1.647597</td></tr>\n",
       "<tr><td>6879263379560880128</td><td>6110</td><td>56279</td><td>54</td><td>1.306742</td></tr>\n",
       "<tr><td>...</td><td>...</td><td>...</td><td>...</td><td>...</td></tr>\n",
       "<tr><td>8147103645948991488</td><td>7236</td><td>56605</td><td>334</td><td>1.914391</td></tr>\n",
       "<tr><td>8147106944483874816</td><td>7236</td><td>56605</td><td>346</td><td>1.323833</td></tr>\n",
       "<tr><td>8147112167164106752</td><td>7236</td><td>56605</td><td>365</td><td>1.329597</td></tr>\n",
       "<tr><td>8147114915943176192</td><td>7236</td><td>56605</td><td>375</td><td>1.58308</td></tr>\n",
       "<tr><td>9325886771253499904</td><td>8283</td><td>57064</td><td>210</td><td>1.101487</td></tr>\n",
       "<tr><td>9325888970276755456</td><td>8283</td><td>57064</td><td>218</td><td>1.5247</td></tr>\n",
       "<tr><td>9325891169300011008</td><td>8283</td><td>57064</td><td>226</td><td>1.899279</td></tr>\n",
       "<tr><td>9325891993933731840</td><td>8283</td><td>57064</td><td>229</td><td>1.611925</td></tr>\n",
       "<tr><td>9325897216613963776</td><td>8283</td><td>57064</td><td>248</td><td>1.51499</td></tr>\n",
       "<tr><td>9325900515148847104</td><td>8283</td><td>57064</td><td>260</td><td>1.435038</td></tr>\n",
       "</table></div>"
      ],
      "text/plain": [
       "<Table length=10000>\n",
       "     specObjID      plate  mjd  fiberid redshift\n",
       "       uint64       int64 int64  int64  float64 \n",
       "------------------- ----- ----- ------- --------\n",
       "8596248104856213504  7635 56979       8 1.867679\n",
       "8596249204367841280  7635 56979      12 1.064881\n",
       "8596251678269003776  7635 56979      21 1.502078\n",
       "8596252502902724608  7635 56979      24 1.637638\n",
       "8596255801437607936  7635 56979      36 1.343358\n",
       "8596259649728305152  7635 56979      50 1.117227\n",
       "2028880768280848384  1802 53885      33 1.637825\n",
       "2028888189984335872  1802 53885      60 1.647597\n",
       "6879263379560880128  6110 56279      54 1.306742\n",
       "                ...   ...   ...     ...      ...\n",
       "8147103645948991488  7236 56605     334 1.914391\n",
       "8147106944483874816  7236 56605     346 1.323833\n",
       "8147112167164106752  7236 56605     365 1.329597\n",
       "8147114915943176192  7236 56605     375  1.58308\n",
       "9325886771253499904  8283 57064     210 1.101487\n",
       "9325888970276755456  8283 57064     218   1.5247\n",
       "9325891169300011008  8283 57064     226 1.899279\n",
       "9325891993933731840  8283 57064     229 1.611925\n",
       "9325897216613963776  8283 57064     248  1.51499\n",
       "9325900515148847104  8283 57064     260 1.435038"
      ]
     },
     "execution_count": 412,
     "metadata": {},
     "output_type": "execute_result"
    }
   ],
   "source": [
    " table_1"
   ]
  },
  {
   "cell_type": "code",
   "execution_count": 413,
   "metadata": {},
   "outputs": [
    {
     "data": {
      "text/plain": [
       "(<Table length=10000>\n",
       "      specObjID       plate  mjd  fiberid redshift\n",
       "        uint64        int64 int64  int64  float64 \n",
       " -------------------- ----- ----- ------- --------\n",
       "   311989205171464192   277 51908     418 2.005455\n",
       "   574338734808393728   510 52381     472 2.001966\n",
       "   890694619304585216   791 52435     392 2.004082\n",
       "   932318279261775872   828 52317     266 2.001326\n",
       "  2043590584576272384  1815 53884     299 2.005622\n",
       "  2723589602366482432  2419 54139     137 2.003162\n",
       "  5147644155221268480  4572 55622     108 2.003111\n",
       "  6179185080239675392  5488 56013     896 2.004598\n",
       "  6745360452078032896  5991 56076     342 2.000579\n",
       "                  ...   ...   ...     ...      ...\n",
       " 12434471424382752768 11044 58508     119 2.041301\n",
       "  9969983718474143744  8855 57780     509  2.04213\n",
       "  9971060959505307648  8856 57453     332 2.037717\n",
       "  9972254479310149632  8857 57449     578 2.040375\n",
       " 12442345851816531968 11051 58510      94 2.043553\n",
       " 12442490437595584512 11051 58510     620 2.041045\n",
       "  9973477136257013760  8858 57450     930 2.035559\n",
       "  9982249315018758144  8866 57457      75 2.045521\n",
       "  9983452730545690624  8867 57460     357 2.045939\n",
       "  9985720198752393216  8869 57481     414 2.041325,\n",
       " <Table length=10000>\n",
       "      specObjID      plate  mjd  fiberid redshift\n",
       "        uint64       int64 int64  int64  float64 \n",
       " ------------------- ----- ----- ------- --------\n",
       "  814064152480868352   723 52201     140 2.302335\n",
       " 4352939965547829248  3866 55623     767 2.302353\n",
       " 4353899015051696128  3867 55652     160 2.301285\n",
       " 4449627439765936128  3952 55330     258 2.302094\n",
       " 4528611682550044672  4022 55352     881 2.300396\n",
       " 4800949170461759488  4264 55506     407 2.302354\n",
       " 5076913121156945920  4509 55574     838 2.304134\n",
       " 5145389056889477120  4570 55623      96 2.302215\n",
       " 5362848271734953984  4763 55869     680  2.30129\n",
       "                 ...   ...   ...     ...      ...\n",
       " 5370702634037827584  4770 55928     582  2.39007\n",
       " 4715434381719918592  4188 55684     602 2.393562\n",
       " 4716523997659158528  4189 55679     470 2.389507\n",
       " 4717657044509022208  4190 55686     496  2.39198\n",
       " 4718752154030200832  4191 55444     384 2.392785\n",
       " 4718876948599953408  4191 55444     838 2.389167\n",
       " 4725566927686359040  4197 55479     600 2.503112\n",
       " 4731040295999002624  4202 55445      32 2.503527\n",
       " 4731140351557130240  4202 55445     396  2.39388\n",
       " 4731298131475716096  4202 55445     970 2.502817,\n",
       " <Table length=5000>\n",
       "      specObjID      plate  mjd  fiberid redshift\n",
       "        uint64       int64 int64  int64  float64 \n",
       " ------------------- ----- ----- ------- --------\n",
       " 4323499716258322432  3840 55574     160 2.623729\n",
       " 4449808584306612224  3952 55330     917 2.621135\n",
       " 4454141490223142912  3956 55656     296 2.619827\n",
       " 4511699818905884672  4007 55327     796 2.620218\n",
       " 4536481166610683904  4029 55618     838 2.622063\n",
       " 4559991473672837120  4050 55599     352 2.621586\n",
       " 4708776834820757504  4182 55446     958 2.621549\n",
       " 4742405397973063680  4212 55447     418 2.621157\n",
       " 5077882340405172224  4510 55559     268 2.621149\n",
       "                 ...   ...   ...     ...      ...\n",
       " 4314629126541826048  3832 55289     657 2.918937\n",
       " 4315609616052672512  3833 55290     128 2.894596\n",
       " 4317869117145372672  3835 55570     156 2.968974\n",
       " 4318018650726750208  3835 55570     700 2.961648\n",
       " 4603867483014977536  4089 55470     228 2.896222\n",
       " 4322514553856612352  3839 55575     672 2.932766\n",
       " 4325830131002398720  3842 55565     446 2.935295\n",
       " 4611781493353895936  4096 55501     347 2.925488\n",
       " 4330252362776336384  3846 55327     150 2.938961\n",
       " 4330262258380986368  3846 55327     186  2.96945)"
      ]
     },
     "execution_count": 413,
     "metadata": {},
     "output_type": "execute_result"
    }
   ],
   "source": [
    "table_20,table_21,table_22"
   ]
  },
  {
   "cell_type": "code",
   "execution_count": 414,
   "metadata": {},
   "outputs": [
    {
     "data": {
      "text/html": [
       "<div><i>Table length=10000</i>\n",
       "<table id=\"table128629748433168\" class=\"table-striped table-bordered table-condensed\">\n",
       "<thead><tr><th>specObjID</th><th>plate</th><th>mjd</th><th>fiberid</th><th>redshift</th></tr></thead>\n",
       "<thead><tr><th>uint64</th><th>int64</th><th>int64</th><th>int64</th><th>float64</th></tr></thead>\n",
       "<tr><td>5792831534659819520</td><td>5145</td><td>55835</td><td>278</td><td>3.440893</td></tr>\n",
       "<tr><td>7239742115353483264</td><td>6430</td><td>56299</td><td>748</td><td>3.459254</td></tr>\n",
       "<tr><td>7508724442861950976</td><td>6669</td><td>56413</td><td>356</td><td>3.183032</td></tr>\n",
       "<tr><td>6937903631728662528</td><td>6162</td><td>56191</td><td>394</td><td>3.058778</td></tr>\n",
       "<tr><td>6782502504821446656</td><td>6024</td><td>56088</td><td>296</td><td>3.808375</td></tr>\n",
       "<tr><td>7517869080600401920</td><td>6677</td><td>56385</td><td>856</td><td>3.044291</td></tr>\n",
       "<tr><td>4822309663738714112</td><td>4283</td><td>55864</td><td>292</td><td>3.214619</td></tr>\n",
       "<tr><td>6920044815356024832</td><td>6146</td><td>56265</td><td>960</td><td>3.023162</td></tr>\n",
       "<tr><td>6978518492082624512</td><td>6198</td><td>56211</td><td>694</td><td>3.913809</td></tr>\n",
       "<tr><td>...</td><td>...</td><td>...</td><td>...</td><td>...</td></tr>\n",
       "<tr><td>6638567635964680192</td><td>5896</td><td>56047</td><td>952</td><td>3.071811</td></tr>\n",
       "<tr><td>5824312205370480640</td><td>5173</td><td>56046</td><td>116</td><td>3.358531</td></tr>\n",
       "<tr><td>6750962739035002880</td><td>5996</td><td>56096</td><td>243</td><td>3.628409</td></tr>\n",
       "<tr><td>6780404636434323456</td><td>6022</td><td>56076</td><td>856</td><td>3.071825</td></tr>\n",
       "<tr><td>4042139082499053568</td><td>3590</td><td>55201</td><td>576</td><td>3.228793</td></tr>\n",
       "<tr><td>6695916513973786624</td><td>5947</td><td>56093</td><td>690</td><td>3.12329</td></tr>\n",
       "<tr><td>5868288271931693056</td><td>5212</td><td>56016</td><td>356</td><td>3.028558</td></tr>\n",
       "<tr><td>9440824226762479616</td><td>8385</td><td>57511</td><td>558</td><td>3.72715</td></tr>\n",
       "<tr><td>2527753663355578368</td><td>2245</td><td>54208</td><td>394</td><td>3.244151</td></tr>\n",
       "<tr><td>8542392381395458048</td><td>7587</td><td>57297</td><td>690</td><td>3.255197</td></tr>\n",
       "</table></div>"
      ],
      "text/plain": [
       "<Table length=10000>\n",
       "     specObjID      plate  mjd  fiberid redshift\n",
       "       uint64       int64 int64  int64  float64 \n",
       "------------------- ----- ----- ------- --------\n",
       "5792831534659819520  5145 55835     278 3.440893\n",
       "7239742115353483264  6430 56299     748 3.459254\n",
       "7508724442861950976  6669 56413     356 3.183032\n",
       "6937903631728662528  6162 56191     394 3.058778\n",
       "6782502504821446656  6024 56088     296 3.808375\n",
       "7517869080600401920  6677 56385     856 3.044291\n",
       "4822309663738714112  4283 55864     292 3.214619\n",
       "6920044815356024832  6146 56265     960 3.023162\n",
       "6978518492082624512  6198 56211     694 3.913809\n",
       "                ...   ...   ...     ...      ...\n",
       "6638567635964680192  5896 56047     952 3.071811\n",
       "5824312205370480640  5173 56046     116 3.358531\n",
       "6750962739035002880  5996 56096     243 3.628409\n",
       "6780404636434323456  6022 56076     856 3.071825\n",
       "4042139082499053568  3590 55201     576 3.228793\n",
       "6695916513973786624  5947 56093     690  3.12329\n",
       "5868288271931693056  5212 56016     356 3.028558\n",
       "9440824226762479616  8385 57511     558  3.72715\n",
       "2527753663355578368  2245 54208     394 3.244151\n",
       "8542392381395458048  7587 57297     690 3.255197"
      ]
     },
     "execution_count": 414,
     "metadata": {},
     "output_type": "execute_result"
    }
   ],
   "source": [
    "table_3"
   ]
  },
  {
   "cell_type": "code",
   "execution_count": 415,
   "metadata": {},
   "outputs": [
    {
     "name": "stdout",
     "output_type": "stream",
     "text": [
      "1.000003 1.99975\n",
      "\n",
      "2.000009 2.209124\n",
      "2.300006 2.50512\n",
      "2.619483 2.971381\n",
      "\n",
      "3.00001 3.999379\n"
     ]
    }
   ],
   "source": [
    "print(np.min(table_1['redshift']), np.max(table_1['redshift']))\n",
    "print()\n",
    "print(np.min(table_20['redshift']), np.max(table_20['redshift']))\n",
    "print(np.min(table_21['redshift']), np.max(table_21['redshift']))\n",
    "print(np.min(table_22['redshift']), np.max(table_22['redshift']))\n",
    "print()\n",
    "print(np.min(table_3['redshift']), np.max(table_3['redshift']))"
   ]
  },
  {
   "cell_type": "code",
   "execution_count": 416,
   "metadata": {},
   "outputs": [],
   "source": [
    "df_table_1 =  table_1.to_pandas()\n",
    "\n",
    "df_table_20 = table_20.to_pandas()\n",
    "df_table_21 = table_21.to_pandas()\n",
    "df_table_22 = table_22.to_pandas()\n",
    "\n",
    "df_table_3 =  table_3.to_pandas()"
   ]
  },
  {
   "cell_type": "code",
   "execution_count": 417,
   "metadata": {},
   "outputs": [],
   "source": [
    "df_combined = pd.concat([df_table_1, df_table_20,df_table_21,df_table_22, df_table_3], ignore_index=True)\n",
    "#df_combined = pd.concat([df_table_21,df_table_22, df_table_3], ignore_index=True)"
   ]
  },
  {
   "cell_type": "code",
   "execution_count": 418,
   "metadata": {},
   "outputs": [
    {
     "data": {
      "text/plain": [
       "(45000, 5)"
      ]
     },
     "execution_count": 418,
     "metadata": {},
     "output_type": "execute_result"
    }
   ],
   "source": [
    "df_combined.shape"
   ]
  },
  {
   "cell_type": "code",
   "execution_count": 419,
   "metadata": {},
   "outputs": [
    {
     "data": {
      "text/html": [
       "<div>\n",
       "<style scoped>\n",
       "    .dataframe tbody tr th:only-of-type {\n",
       "        vertical-align: middle;\n",
       "    }\n",
       "\n",
       "    .dataframe tbody tr th {\n",
       "        vertical-align: top;\n",
       "    }\n",
       "\n",
       "    .dataframe thead th {\n",
       "        text-align: right;\n",
       "    }\n",
       "</style>\n",
       "<table border=\"1\" class=\"dataframe\">\n",
       "  <thead>\n",
       "    <tr style=\"text-align: right;\">\n",
       "      <th></th>\n",
       "      <th>specObjID</th>\n",
       "      <th>plate</th>\n",
       "      <th>mjd</th>\n",
       "      <th>fiberid</th>\n",
       "      <th>redshift</th>\n",
       "    </tr>\n",
       "  </thead>\n",
       "  <tbody>\n",
       "    <tr>\n",
       "      <th>0</th>\n",
       "      <td>8596248104856213504</td>\n",
       "      <td>7635</td>\n",
       "      <td>56979</td>\n",
       "      <td>8</td>\n",
       "      <td>1.867679</td>\n",
       "    </tr>\n",
       "    <tr>\n",
       "      <th>1</th>\n",
       "      <td>8596249204367841280</td>\n",
       "      <td>7635</td>\n",
       "      <td>56979</td>\n",
       "      <td>12</td>\n",
       "      <td>1.064881</td>\n",
       "    </tr>\n",
       "    <tr>\n",
       "      <th>2</th>\n",
       "      <td>8596251678269003776</td>\n",
       "      <td>7635</td>\n",
       "      <td>56979</td>\n",
       "      <td>21</td>\n",
       "      <td>1.502078</td>\n",
       "    </tr>\n",
       "    <tr>\n",
       "      <th>3</th>\n",
       "      <td>8596252502902724608</td>\n",
       "      <td>7635</td>\n",
       "      <td>56979</td>\n",
       "      <td>24</td>\n",
       "      <td>1.637638</td>\n",
       "    </tr>\n",
       "    <tr>\n",
       "      <th>4</th>\n",
       "      <td>8596255801437607936</td>\n",
       "      <td>7635</td>\n",
       "      <td>56979</td>\n",
       "      <td>36</td>\n",
       "      <td>1.343358</td>\n",
       "    </tr>\n",
       "    <tr>\n",
       "      <th>...</th>\n",
       "      <td>...</td>\n",
       "      <td>...</td>\n",
       "      <td>...</td>\n",
       "      <td>...</td>\n",
       "      <td>...</td>\n",
       "    </tr>\n",
       "    <tr>\n",
       "      <th>44995</th>\n",
       "      <td>6695916513973786624</td>\n",
       "      <td>5947</td>\n",
       "      <td>56093</td>\n",
       "      <td>690</td>\n",
       "      <td>3.123290</td>\n",
       "    </tr>\n",
       "    <tr>\n",
       "      <th>44996</th>\n",
       "      <td>5868288271931693056</td>\n",
       "      <td>5212</td>\n",
       "      <td>56016</td>\n",
       "      <td>356</td>\n",
       "      <td>3.028558</td>\n",
       "    </tr>\n",
       "    <tr>\n",
       "      <th>44997</th>\n",
       "      <td>9440824226762479616</td>\n",
       "      <td>8385</td>\n",
       "      <td>57511</td>\n",
       "      <td>558</td>\n",
       "      <td>3.727150</td>\n",
       "    </tr>\n",
       "    <tr>\n",
       "      <th>44998</th>\n",
       "      <td>2527753663355578368</td>\n",
       "      <td>2245</td>\n",
       "      <td>54208</td>\n",
       "      <td>394</td>\n",
       "      <td>3.244151</td>\n",
       "    </tr>\n",
       "    <tr>\n",
       "      <th>44999</th>\n",
       "      <td>8542392381395458048</td>\n",
       "      <td>7587</td>\n",
       "      <td>57297</td>\n",
       "      <td>690</td>\n",
       "      <td>3.255197</td>\n",
       "    </tr>\n",
       "  </tbody>\n",
       "</table>\n",
       "<p>45000 rows × 5 columns</p>\n",
       "</div>"
      ],
      "text/plain": [
       "                 specObjID  plate    mjd  fiberid  redshift\n",
       "0      8596248104856213504   7635  56979        8  1.867679\n",
       "1      8596249204367841280   7635  56979       12  1.064881\n",
       "2      8596251678269003776   7635  56979       21  1.502078\n",
       "3      8596252502902724608   7635  56979       24  1.637638\n",
       "4      8596255801437607936   7635  56979       36  1.343358\n",
       "...                    ...    ...    ...      ...       ...\n",
       "44995  6695916513973786624   5947  56093      690  3.123290\n",
       "44996  5868288271931693056   5212  56016      356  3.028558\n",
       "44997  9440824226762479616   8385  57511      558  3.727150\n",
       "44998  2527753663355578368   2245  54208      394  3.244151\n",
       "44999  8542392381395458048   7587  57297      690  3.255197\n",
       "\n",
       "[45000 rows x 5 columns]"
      ]
     },
     "execution_count": 419,
     "metadata": {},
     "output_type": "execute_result"
    }
   ],
   "source": [
    "df_combined"
   ]
  },
  {
   "cell_type": "code",
   "execution_count": null,
   "metadata": {},
   "outputs": [],
   "source": []
  },
  {
   "cell_type": "code",
   "execution_count": null,
   "metadata": {},
   "outputs": [],
   "source": []
  },
  {
   "cell_type": "code",
   "execution_count": 420,
   "metadata": {},
   "outputs": [],
   "source": [
    "#df_combined consist of 60000 quasars between redshift 1 and 4"
   ]
  },
  {
   "cell_type": "code",
   "execution_count": 421,
   "metadata": {},
   "outputs": [],
   "source": [
    "#Now to extract the spectrum of each source and save it as a dataframe"
   ]
  },
  {
   "cell_type": "code",
   "execution_count": 422,
   "metadata": {},
   "outputs": [],
   "source": [
    "def query_with_retries(plate,mjd,fiberID, retries=3, delay=60):\n",
    "    for i in range(retries):\n",
    "        try:\n",
    "            return SDSS.get_spectra(plate = plate,mjd=mjd,fiberID=fiberID, data_release=18, timeout=120, cache=False)\n",
    "        except TimeoutError:\n",
    "            print(f\"Timeout error. Retrying {i+1}/{retries} in {delay} seconds...\")\n",
    "            time.sleep(delay)\n",
    "        except RemoteDisconnected:\n",
    "            print(f\"Remote disconnected. Retrying {i+1}/{retries} in {delay} seconds...\")\n",
    "            time.sleep(delay)\n",
    "            delay *= 2  # Exponential backoff\n",
    "    raise TimeoutError(\"Failed after multiple retries\")"
   ]
  },
  {
   "cell_type": "code",
   "execution_count": 424,
   "metadata": {},
   "outputs": [
    {
     "name": "stdout",
     "output_type": "stream",
     "text": [
      "Step 1/9\n"
     ]
    },
    {
     "name": "stderr",
     "output_type": "stream",
     "text": [
      "  0%|                                                     | 0/6 [00:00<?, ?it/s]"
     ]
    },
    {
     "name": "stdout",
     "output_type": "stream",
     "text": [
      "80\n"
     ]
    },
    {
     "name": "stderr",
     "output_type": "stream",
     "text": [
      "  0%|                                                     | 0/6 [01:35<?, ?it/s]\n"
     ]
    },
    {
     "ename": "KeyboardInterrupt",
     "evalue": "",
     "output_type": "error",
     "traceback": [
      "\u001b[0;31m---------------------------------------------------------------------------\u001b[0m",
      "\u001b[0;31mKeyboardInterrupt\u001b[0m                         Traceback (most recent call last)",
      "Cell \u001b[0;32mIn[424], line 25\u001b[0m\n\u001b[1;32m     22\u001b[0m     \u001b[38;5;28;01mcontinue\u001b[39;00m\n\u001b[1;32m     23\u001b[0m \u001b[38;5;28;01melse\u001b[39;00m:\n\u001b[1;32m     24\u001b[0m     \u001b[38;5;66;03m#print(i)\u001b[39;00m\n\u001b[0;32m---> 25\u001b[0m     sp \u001b[38;5;241m=\u001b[39m SDSS\u001b[38;5;241m.\u001b[39mget_spectra(plate \u001b[38;5;241m=\u001b[39m df_combined[\u001b[38;5;124m'\u001b[39m\u001b[38;5;124mplate\u001b[39m\u001b[38;5;124m'\u001b[39m][i],mjd\u001b[38;5;241m=\u001b[39mdf_combined[\u001b[38;5;124m'\u001b[39m\u001b[38;5;124mmjd\u001b[39m\u001b[38;5;124m'\u001b[39m][i],fiberID\u001b[38;5;241m=\u001b[39mdf_combined[\u001b[38;5;124m'\u001b[39m\u001b[38;5;124mfiberid\u001b[39m\u001b[38;5;124m'\u001b[39m][i], data_release\u001b[38;5;241m=\u001b[39m\u001b[38;5;241m17\u001b[39m, timeout\u001b[38;5;241m=\u001b[39m\u001b[38;5;241m120\u001b[39m, cache\u001b[38;5;241m=\u001b[39m\u001b[38;5;28;01mFalse\u001b[39;00m)\n\u001b[1;32m     27\u001b[0m \u001b[38;5;28;01mif\u001b[39;00m sp \u001b[38;5;241m==\u001b[39m \u001b[38;5;28;01mNone\u001b[39;00m:\n\u001b[1;32m     28\u001b[0m     fail \u001b[38;5;241m=\u001b[39m [df_combined[\u001b[38;5;124m'\u001b[39m\u001b[38;5;124mplate\u001b[39m\u001b[38;5;124m'\u001b[39m][i], df_combined[\u001b[38;5;124m'\u001b[39m\u001b[38;5;124mmjd\u001b[39m\u001b[38;5;124m'\u001b[39m][i], df_combined[\u001b[38;5;124m'\u001b[39m\u001b[38;5;124mfiberid\u001b[39m\u001b[38;5;124m'\u001b[39m][i]]\n",
      "File \u001b[0;32m~/anaconda3/lib/python3.12/site-packages/astroquery/sdss/core.py:812\u001b[0m, in \u001b[0;36mSDSSClass.get_spectra\u001b[0;34m(self, coordinates, radius, matches, plate, fiberID, mjd, timeout, get_query_payload, data_release, cache, show_progress)\u001b[0m\n\u001b[1;32m    810\u001b[0m     \u001b[38;5;28;01mreturn\u001b[39;00m readable_objs\n\u001b[1;32m    811\u001b[0m \u001b[38;5;28;01melse\u001b[39;00m:\n\u001b[0;32m--> 812\u001b[0m     \u001b[38;5;28;01mreturn\u001b[39;00m [obj\u001b[38;5;241m.\u001b[39mget_fits() \u001b[38;5;28;01mfor\u001b[39;00m obj \u001b[38;5;129;01min\u001b[39;00m readable_objs]\n",
      "File \u001b[0;32m~/anaconda3/lib/python3.12/site-packages/astroquery/utils/commons.py:272\u001b[0m, in \u001b[0;36mFileContainer.get_fits\u001b[0;34m(self)\u001b[0m\n\u001b[1;32m    267\u001b[0m \u001b[38;5;28;01mdef\u001b[39;00m \u001b[38;5;21mget_fits\u001b[39m(\u001b[38;5;28mself\u001b[39m):\n\u001b[1;32m    268\u001b[0m \u001b[38;5;250m    \u001b[39m\u001b[38;5;124;03m\"\"\"\u001b[39;00m\n\u001b[1;32m    269\u001b[0m \u001b[38;5;124;03m    Assuming the contained file is a FITS file, read it\u001b[39;00m\n\u001b[1;32m    270\u001b[0m \u001b[38;5;124;03m    and return the file parsed as FITS HDUList\u001b[39;00m\n\u001b[1;32m    271\u001b[0m \u001b[38;5;124;03m    \"\"\"\u001b[39;00m\n\u001b[0;32m--> 272\u001b[0m     filedata \u001b[38;5;241m=\u001b[39m \u001b[38;5;28mself\u001b[39m\u001b[38;5;241m.\u001b[39mget_string()\n\u001b[1;32m    274\u001b[0m     \u001b[38;5;28;01mif\u001b[39;00m \u001b[38;5;28mlen\u001b[39m(filedata) \u001b[38;5;241m==\u001b[39m \u001b[38;5;241m0\u001b[39m:\n\u001b[1;32m    275\u001b[0m         \u001b[38;5;28;01mraise\u001b[39;00m \u001b[38;5;167;01mTypeError\u001b[39;00m(\u001b[38;5;124m\"\u001b[39m\u001b[38;5;124mThe file retrieved was empty.\u001b[39m\u001b[38;5;124m\"\u001b[39m)\n",
      "File \u001b[0;32m~/anaconda3/lib/python3.12/site-packages/astroquery/utils/commons.py:319\u001b[0m, in \u001b[0;36mFileContainer.get_string\u001b[0;34m(self)\u001b[0m\n\u001b[1;32m    317\u001b[0m \u001b[38;5;28;01mif\u001b[39;00m \u001b[38;5;129;01mnot\u001b[39;00m \u001b[38;5;28mhasattr\u001b[39m(\u001b[38;5;28mself\u001b[39m, \u001b[38;5;124m'\u001b[39m\u001b[38;5;124m_string\u001b[39m\u001b[38;5;124m'\u001b[39m):\n\u001b[1;32m    318\u001b[0m     \u001b[38;5;28;01mtry\u001b[39;00m:\n\u001b[0;32m--> 319\u001b[0m         \u001b[38;5;28;01mwith\u001b[39;00m \u001b[38;5;28mself\u001b[39m\u001b[38;5;241m.\u001b[39m_readable_object \u001b[38;5;28;01mas\u001b[39;00m f:\n\u001b[1;32m    320\u001b[0m             data \u001b[38;5;241m=\u001b[39m f\u001b[38;5;241m.\u001b[39mread()\n\u001b[1;32m    321\u001b[0m             \u001b[38;5;28mself\u001b[39m\u001b[38;5;241m.\u001b[39m_string \u001b[38;5;241m=\u001b[39m data\n",
      "File \u001b[0;32m~/anaconda3/lib/python3.12/contextlib.py:137\u001b[0m, in \u001b[0;36m_GeneratorContextManager.__enter__\u001b[0;34m(self)\u001b[0m\n\u001b[1;32m    135\u001b[0m \u001b[38;5;28;01mdel\u001b[39;00m \u001b[38;5;28mself\u001b[39m\u001b[38;5;241m.\u001b[39margs, \u001b[38;5;28mself\u001b[39m\u001b[38;5;241m.\u001b[39mkwds, \u001b[38;5;28mself\u001b[39m\u001b[38;5;241m.\u001b[39mfunc\n\u001b[1;32m    136\u001b[0m \u001b[38;5;28;01mtry\u001b[39;00m:\n\u001b[0;32m--> 137\u001b[0m     \u001b[38;5;28;01mreturn\u001b[39;00m \u001b[38;5;28mnext\u001b[39m(\u001b[38;5;28mself\u001b[39m\u001b[38;5;241m.\u001b[39mgen)\n\u001b[1;32m    138\u001b[0m \u001b[38;5;28;01mexcept\u001b[39;00m \u001b[38;5;167;01mStopIteration\u001b[39;00m:\n\u001b[1;32m    139\u001b[0m     \u001b[38;5;28;01mraise\u001b[39;00m \u001b[38;5;167;01mRuntimeError\u001b[39;00m(\u001b[38;5;124m\"\u001b[39m\u001b[38;5;124mgenerator didn\u001b[39m\u001b[38;5;124m'\u001b[39m\u001b[38;5;124mt yield\u001b[39m\u001b[38;5;124m\"\u001b[39m) \u001b[38;5;28;01mfrom\u001b[39;00m \u001b[38;5;28;01mNone\u001b[39;00m\n",
      "File \u001b[0;32m~/anaconda3/lib/python3.12/site-packages/astropy/utils/data.py:358\u001b[0m, in \u001b[0;36mget_readable_fileobj\u001b[0;34m(name_or_obj, encoding, cache, show_progress, remote_timeout, sources, http_headers, use_fsspec, fsspec_kwargs, close_files)\u001b[0m\n\u001b[1;32m    356\u001b[0m is_url \u001b[38;5;241m=\u001b[39m _is_url(name_or_obj)\n\u001b[1;32m    357\u001b[0m \u001b[38;5;28;01mif\u001b[39;00m is_url:\n\u001b[0;32m--> 358\u001b[0m     name_or_obj \u001b[38;5;241m=\u001b[39m download_file(\n\u001b[1;32m    359\u001b[0m         name_or_obj,\n\u001b[1;32m    360\u001b[0m         cache\u001b[38;5;241m=\u001b[39mcache,\n\u001b[1;32m    361\u001b[0m         show_progress\u001b[38;5;241m=\u001b[39mshow_progress,\n\u001b[1;32m    362\u001b[0m         timeout\u001b[38;5;241m=\u001b[39mremote_timeout,\n\u001b[1;32m    363\u001b[0m         sources\u001b[38;5;241m=\u001b[39msources,\n\u001b[1;32m    364\u001b[0m         http_headers\u001b[38;5;241m=\u001b[39mhttp_headers,\n\u001b[1;32m    365\u001b[0m     )\n\u001b[1;32m    366\u001b[0m fileobj \u001b[38;5;241m=\u001b[39m io\u001b[38;5;241m.\u001b[39mFileIO(name_or_obj, \u001b[38;5;124m\"\u001b[39m\u001b[38;5;124mr\u001b[39m\u001b[38;5;124m\"\u001b[39m)\n\u001b[1;32m    367\u001b[0m \u001b[38;5;28;01mif\u001b[39;00m is_url \u001b[38;5;129;01mand\u001b[39;00m \u001b[38;5;129;01mnot\u001b[39;00m cache:\n",
      "File \u001b[0;32m~/anaconda3/lib/python3.12/site-packages/astropy/utils/data.py:1531\u001b[0m, in \u001b[0;36mdownload_file\u001b[0;34m(remote_url, cache, show_progress, timeout, sources, pkgname, http_headers, ssl_context, allow_insecure)\u001b[0m\n\u001b[1;32m   1529\u001b[0m \u001b[38;5;28;01mfor\u001b[39;00m source_url \u001b[38;5;129;01min\u001b[39;00m sources:\n\u001b[1;32m   1530\u001b[0m     \u001b[38;5;28;01mtry\u001b[39;00m:\n\u001b[0;32m-> 1531\u001b[0m         f_name \u001b[38;5;241m=\u001b[39m _download_file_from_source(\n\u001b[1;32m   1532\u001b[0m             source_url,\n\u001b[1;32m   1533\u001b[0m             timeout\u001b[38;5;241m=\u001b[39mtimeout,\n\u001b[1;32m   1534\u001b[0m             show_progress\u001b[38;5;241m=\u001b[39mshow_progress,\n\u001b[1;32m   1535\u001b[0m             cache\u001b[38;5;241m=\u001b[39mcache,\n\u001b[1;32m   1536\u001b[0m             remote_url\u001b[38;5;241m=\u001b[39mremote_url,\n\u001b[1;32m   1537\u001b[0m             pkgname\u001b[38;5;241m=\u001b[39mpkgname,\n\u001b[1;32m   1538\u001b[0m             http_headers\u001b[38;5;241m=\u001b[39mhttp_headers,\n\u001b[1;32m   1539\u001b[0m             ssl_context\u001b[38;5;241m=\u001b[39mssl_context,\n\u001b[1;32m   1540\u001b[0m             allow_insecure\u001b[38;5;241m=\u001b[39mallow_insecure,\n\u001b[1;32m   1541\u001b[0m         )\n\u001b[1;32m   1542\u001b[0m         \u001b[38;5;66;03m# Success!\u001b[39;00m\n\u001b[1;32m   1543\u001b[0m         \u001b[38;5;28;01mbreak\u001b[39;00m\n",
      "File \u001b[0;32m~/anaconda3/lib/python3.12/site-packages/astropy/utils/data.py:1358\u001b[0m, in \u001b[0;36m_download_file_from_source\u001b[0;34m(source_url, show_progress, timeout, remote_url, cache, pkgname, http_headers, ftp_tls, ssl_context, allow_insecure)\u001b[0m\n\u001b[1;32m   1356\u001b[0m bytes_read \u001b[38;5;241m+\u001b[39m\u001b[38;5;241m=\u001b[39m \u001b[38;5;28mlen\u001b[39m(block)\n\u001b[1;32m   1357\u001b[0m p\u001b[38;5;241m.\u001b[39mupdate(bytes_read)\n\u001b[0;32m-> 1358\u001b[0m block \u001b[38;5;241m=\u001b[39m remote\u001b[38;5;241m.\u001b[39mread(conf\u001b[38;5;241m.\u001b[39mdownload_block_size)\n\u001b[1;32m   1359\u001b[0m \u001b[38;5;28;01mif\u001b[39;00m size \u001b[38;5;129;01mis\u001b[39;00m \u001b[38;5;129;01mnot\u001b[39;00m \u001b[38;5;28;01mNone\u001b[39;00m \u001b[38;5;129;01mand\u001b[39;00m bytes_read \u001b[38;5;241m>\u001b[39m size:\n\u001b[1;32m   1360\u001b[0m     \u001b[38;5;28;01mraise\u001b[39;00m urllib\u001b[38;5;241m.\u001b[39merror\u001b[38;5;241m.\u001b[39mURLError(\n\u001b[1;32m   1361\u001b[0m         \u001b[38;5;124mf\u001b[39m\u001b[38;5;124m\"\u001b[39m\u001b[38;5;124mFile was supposed to be \u001b[39m\u001b[38;5;132;01m{\u001b[39;00msize\u001b[38;5;132;01m}\u001b[39;00m\u001b[38;5;124m bytes but \u001b[39m\u001b[38;5;124m\"\u001b[39m\n\u001b[1;32m   1362\u001b[0m         \u001b[38;5;124mf\u001b[39m\u001b[38;5;124m\"\u001b[39m\u001b[38;5;124mserver provides more, at least \u001b[39m\u001b[38;5;132;01m{\u001b[39;00mbytes_read\u001b[38;5;132;01m}\u001b[39;00m\u001b[38;5;124m \u001b[39m\u001b[38;5;124m\"\u001b[39m\n\u001b[1;32m   1363\u001b[0m         \u001b[38;5;124m\"\u001b[39m\u001b[38;5;124mbytes. Download failed.\u001b[39m\u001b[38;5;124m\"\u001b[39m\n\u001b[1;32m   1364\u001b[0m     )\n",
      "File \u001b[0;32m~/anaconda3/lib/python3.12/http/client.py:479\u001b[0m, in \u001b[0;36mHTTPResponse.read\u001b[0;34m(self, amt)\u001b[0m\n\u001b[1;32m    476\u001b[0m \u001b[38;5;28;01mif\u001b[39;00m \u001b[38;5;28mself\u001b[39m\u001b[38;5;241m.\u001b[39mlength \u001b[38;5;129;01mis\u001b[39;00m \u001b[38;5;129;01mnot\u001b[39;00m \u001b[38;5;28;01mNone\u001b[39;00m \u001b[38;5;129;01mand\u001b[39;00m amt \u001b[38;5;241m>\u001b[39m \u001b[38;5;28mself\u001b[39m\u001b[38;5;241m.\u001b[39mlength:\n\u001b[1;32m    477\u001b[0m     \u001b[38;5;66;03m# clip the read to the \"end of response\"\u001b[39;00m\n\u001b[1;32m    478\u001b[0m     amt \u001b[38;5;241m=\u001b[39m \u001b[38;5;28mself\u001b[39m\u001b[38;5;241m.\u001b[39mlength\n\u001b[0;32m--> 479\u001b[0m s \u001b[38;5;241m=\u001b[39m \u001b[38;5;28mself\u001b[39m\u001b[38;5;241m.\u001b[39mfp\u001b[38;5;241m.\u001b[39mread(amt)\n\u001b[1;32m    480\u001b[0m \u001b[38;5;28;01mif\u001b[39;00m \u001b[38;5;129;01mnot\u001b[39;00m s \u001b[38;5;129;01mand\u001b[39;00m amt:\n\u001b[1;32m    481\u001b[0m     \u001b[38;5;66;03m# Ideally, we would raise IncompleteRead if the content-length\u001b[39;00m\n\u001b[1;32m    482\u001b[0m     \u001b[38;5;66;03m# wasn't satisfied, but it might break compatibility.\u001b[39;00m\n\u001b[1;32m    483\u001b[0m     \u001b[38;5;28mself\u001b[39m\u001b[38;5;241m.\u001b[39m_close_conn()\n",
      "File \u001b[0;32m~/anaconda3/lib/python3.12/socket.py:708\u001b[0m, in \u001b[0;36mSocketIO.readinto\u001b[0;34m(self, b)\u001b[0m\n\u001b[1;32m    706\u001b[0m \u001b[38;5;28;01mwhile\u001b[39;00m \u001b[38;5;28;01mTrue\u001b[39;00m:\n\u001b[1;32m    707\u001b[0m     \u001b[38;5;28;01mtry\u001b[39;00m:\n\u001b[0;32m--> 708\u001b[0m         \u001b[38;5;28;01mreturn\u001b[39;00m \u001b[38;5;28mself\u001b[39m\u001b[38;5;241m.\u001b[39m_sock\u001b[38;5;241m.\u001b[39mrecv_into(b)\n\u001b[1;32m    709\u001b[0m     \u001b[38;5;28;01mexcept\u001b[39;00m timeout:\n\u001b[1;32m    710\u001b[0m         \u001b[38;5;28mself\u001b[39m\u001b[38;5;241m.\u001b[39m_timeout_occurred \u001b[38;5;241m=\u001b[39m \u001b[38;5;28;01mTrue\u001b[39;00m\n",
      "File \u001b[0;32m~/anaconda3/lib/python3.12/ssl.py:1252\u001b[0m, in \u001b[0;36mSSLSocket.recv_into\u001b[0;34m(self, buffer, nbytes, flags)\u001b[0m\n\u001b[1;32m   1248\u001b[0m     \u001b[38;5;28;01mif\u001b[39;00m flags \u001b[38;5;241m!=\u001b[39m \u001b[38;5;241m0\u001b[39m:\n\u001b[1;32m   1249\u001b[0m         \u001b[38;5;28;01mraise\u001b[39;00m \u001b[38;5;167;01mValueError\u001b[39;00m(\n\u001b[1;32m   1250\u001b[0m           \u001b[38;5;124m\"\u001b[39m\u001b[38;5;124mnon-zero flags not allowed in calls to recv_into() on \u001b[39m\u001b[38;5;132;01m%s\u001b[39;00m\u001b[38;5;124m\"\u001b[39m \u001b[38;5;241m%\u001b[39m\n\u001b[1;32m   1251\u001b[0m           \u001b[38;5;28mself\u001b[39m\u001b[38;5;241m.\u001b[39m\u001b[38;5;18m__class__\u001b[39m)\n\u001b[0;32m-> 1252\u001b[0m     \u001b[38;5;28;01mreturn\u001b[39;00m \u001b[38;5;28mself\u001b[39m\u001b[38;5;241m.\u001b[39mread(nbytes, buffer)\n\u001b[1;32m   1253\u001b[0m \u001b[38;5;28;01melse\u001b[39;00m:\n\u001b[1;32m   1254\u001b[0m     \u001b[38;5;28;01mreturn\u001b[39;00m \u001b[38;5;28msuper\u001b[39m()\u001b[38;5;241m.\u001b[39mrecv_into(buffer, nbytes, flags)\n",
      "File \u001b[0;32m~/anaconda3/lib/python3.12/ssl.py:1104\u001b[0m, in \u001b[0;36mSSLSocket.read\u001b[0;34m(self, len, buffer)\u001b[0m\n\u001b[1;32m   1102\u001b[0m \u001b[38;5;28;01mtry\u001b[39;00m:\n\u001b[1;32m   1103\u001b[0m     \u001b[38;5;28;01mif\u001b[39;00m buffer \u001b[38;5;129;01mis\u001b[39;00m \u001b[38;5;129;01mnot\u001b[39;00m \u001b[38;5;28;01mNone\u001b[39;00m:\n\u001b[0;32m-> 1104\u001b[0m         \u001b[38;5;28;01mreturn\u001b[39;00m \u001b[38;5;28mself\u001b[39m\u001b[38;5;241m.\u001b[39m_sslobj\u001b[38;5;241m.\u001b[39mread(\u001b[38;5;28mlen\u001b[39m, buffer)\n\u001b[1;32m   1105\u001b[0m     \u001b[38;5;28;01melse\u001b[39;00m:\n\u001b[1;32m   1106\u001b[0m         \u001b[38;5;28;01mreturn\u001b[39;00m \u001b[38;5;28mself\u001b[39m\u001b[38;5;241m.\u001b[39m_sslobj\u001b[38;5;241m.\u001b[39mread(\u001b[38;5;28mlen\u001b[39m)\n",
      "\u001b[0;31mKeyboardInterrupt\u001b[0m: "
     ]
    }
   ],
   "source": [
    "t = 0\n",
    "\n",
    "final_flux = []\n",
    "wavelength_check = []\n",
    "number_of_sources = df_combined.shape[0]\n",
    "\n",
    "no_spectra = [] #Those that give a None for sp \n",
    "#range(number_of_sources)\n",
    "for k in range(1): #int(number_of_sources/5000)\n",
    "    print(f\"Step {k+1}/{int(number_of_sources/5000)}\")\n",
    "    for i in tqdm(range(80,86)):\n",
    "            \n",
    "        print(i)\n",
    "            #sp = query_with_retries(plate=df_combined['plate'][i], mjd=df_combined['mjd'][i], fiberID=df_combined['fiberid'][i])\n",
    "        try:\n",
    "            SDSS.get_spectra(plate = df_combined['plate'][i],mjd=df_combined['mjd'][i],fiberID=df_combined['fiberid'][i], data_release=18, timeout=60, cache=False)\n",
    "        except TimeoutError or RemoteDisconnected or ContentTooShortError:\n",
    "            print(\"TimeoutError or RemoteDisconnected or ContentTooShortError\")\n",
    "            fail = [df_combined['plate'][i], df_combined['mjd'][i], df_combined['fiberid'][i]]\n",
    "            no_spectra.append(fail)\n",
    "            del fail\n",
    "            continue\n",
    "        else:\n",
    "            #print(i)\n",
    "            sp = SDSS.get_spectra(plate = df_combined['plate'][i],mjd=df_combined['mjd'][i],fiberID=df_combined['fiberid'][i], data_release=17, timeout=120, cache=False)\n",
    "\n",
    "        if sp == None:\n",
    "            fail = [df_combined['plate'][i], df_combined['mjd'][i], df_combined['fiberid'][i]]\n",
    "            no_spectra.append(fail)\n",
    "            del fail\n",
    "            continue\n",
    "    \n",
    "        hdu_list = sp[0]\n",
    "        data = hdu_list[1].data\n",
    "        #print(i)\n",
    "    \n",
    "        wavelength = 10**data['loglam']  # Convert from log wavelength to wavelength\n",
    "        flux = data['flux']\n",
    "    \n",
    "        #Let's just choose the first 4000 elements\n",
    "        wavelength = np.asarray(wavelength[0:4000]).astype('float64')\n",
    "        flux = np.asarray(flux[0:4000]).astype('float64')\n",
    "    \n",
    "        if i == 0:\n",
    "            small_wavelength = len(wavelength)\n",
    "            final_wavelength = wavelength\n",
    "            c = 0\n",
    "    \n",
    "        if i!=0 and small_wavelength<len(wavelength):\n",
    "            final_wavelength = wavelength\n",
    "            c = i\n",
    "        \n",
    "        wavelength_check.append(wavelength)\n",
    "        final_flux.append(flux)\n",
    "    \n",
    "        del sp\n",
    "        del wavelength\n",
    "        del flux\n",
    "        del hdu_list\n",
    "        del data\n",
    "    \n",
    "    \n",
    "print(c)\n",
    "print(f\"Fail = {no_spectra}\")"
   ]
  },
  {
   "cell_type": "code",
   "execution_count": null,
   "metadata": {},
   "outputs": [],
   "source": [
    "#Fail = [[9171, 58068, 204], [1194, 52703, 386], [510, 52381, 29]]"
   ]
  },
  {
   "cell_type": "code",
   "execution_count": null,
   "metadata": {},
   "outputs": [],
   "source": [
    "final_flux"
   ]
  },
  {
   "cell_type": "code",
   "execution_count": null,
   "metadata": {},
   "outputs": [],
   "source": [
    "final_flux = np.asarray(final_flux,dtype='object')\n",
    "df_final_flux = pd.DataFrame([flux for flux in final_flux[:number_of_sources]])"
   ]
  },
  {
   "cell_type": "code",
   "execution_count": null,
   "metadata": {},
   "outputs": [],
   "source": [
    "final_flux"
   ]
  },
  {
   "cell_type": "code",
   "execution_count": null,
   "metadata": {},
   "outputs": [],
   "source": [
    "df_final_flux"
   ]
  },
  {
   "cell_type": "code",
   "execution_count": null,
   "metadata": {},
   "outputs": [],
   "source": [
    "df_final_flux['redshift'] = df_combined['redshift'][0:df_final_flux.shape[1]]\n",
    "df_final_flux[0:number_of_sources]"
   ]
  },
  {
   "cell_type": "code",
   "execution_count": null,
   "metadata": {},
   "outputs": [],
   "source": [
    "df_combined[0:number_of_sources] #To check if the redshifts are correct"
   ]
  },
  {
   "cell_type": "code",
   "execution_count": null,
   "metadata": {},
   "outputs": [],
   "source": [
    "final_wavelength = np.asarray(final_wavelength)\n",
    "df_final_wavelength = pd.DataFrame(final_wavelength,columns=['Wavelength'])\n",
    "final_wavelength,len(final_wavelength)"
   ]
  },
  {
   "cell_type": "code",
   "execution_count": null,
   "metadata": {},
   "outputs": [],
   "source": [
    "file_path_flux = r\"final_flux_for_VAE.csv\"\n",
    "df_final_flux.to_csv(file_path_flux, index=False)\n",
    "\n",
    "file_path_wavelength = r\"final_wavelength_for_VAE.csv\"\n",
    "df_final_wavelength.to_csv(file_path_wavelength,index=False)"
   ]
  },
  {
   "cell_type": "code",
   "execution_count": null,
   "metadata": {},
   "outputs": [],
   "source": [
    "len(final_wavelength)"
   ]
  },
  {
   "cell_type": "markdown",
   "metadata": {},
   "source": [
    "## \"\"\"\n",
    "for i in range(number_of_sources):\n",
    "    plt.plot(final_wavelength[0:len(final_flux[i])],final_flux[i])\n",
    "    plt.title(df_combined['redshift'][i])\n",
    "    plt.show()\n",
    "\n",
    "\"\"\""
   ]
  }
 ],
 "metadata": {
  "kernelspec": {
   "display_name": "Python 3 (ipykernel)",
   "language": "python",
   "name": "python3"
  },
  "language_info": {
   "codemirror_mode": {
    "name": "ipython",
    "version": 3
   },
   "file_extension": ".py",
   "mimetype": "text/x-python",
   "name": "python",
   "nbconvert_exporter": "python",
   "pygments_lexer": "ipython3",
   "version": "3.12.4"
  }
 },
 "nbformat": 4,
 "nbformat_minor": 4
}
