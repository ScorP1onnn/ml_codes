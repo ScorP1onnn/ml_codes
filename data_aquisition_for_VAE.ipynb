{
 "cells": [
  {
   "cell_type": "code",
   "execution_count": 20,
   "metadata": {},
   "outputs": [],
   "source": [
    "from astroquery.sdss import SDSS\n",
    "from astropy.table import Table\n",
    "import numpy as np\n",
    "import pandas as pd\n",
    "from tqdm.notebook import tqdm\n",
    "import matplotlib.pyplot as plt\n",
    "import time\n",
    "from astroquery.vizier import Vizier\n",
    "from http.client import RemoteDisconnected\n",
    "from urllib.error import ContentTooShortError"
   ]
  },
  {
   "cell_type": "code",
   "execution_count": 409,
   "metadata": {},
   "outputs": [
    {
     "name": "stdout",
     "output_type": "stream",
     "text": [
      "/home/sai/.astropy/cache/astroquery/Vizier\n"
     ]
    }
   ],
   "source": [
    "print(Vizier.cache_location)"
   ]
  },
  {
   "cell_type": "code",
   "execution_count": 2,
   "metadata": {},
   "outputs": [],
   "source": [
    "query_1 = \"\"\"\n",
    "SELECT TOP 10000\n",
    "specObjID, plate, mjd, fiberid, z as redshift\n",
    "FROM SpecObj\n",
    "WHERE class = 'QSO' AND zWarning = 0 AND 1.0<z AND z<2.0 AND snMedian>5\n",
    "\"\"\"\n",
    "\n",
    "query_20=\"\"\"\n",
    "SELECT TOP 10000\n",
    "specObjID, plate, mjd, fiberid, z as redshift\n",
    "FROM SpecObj\n",
    "WHERE class = 'QSO' AND zWarning = 0 AND 2.0<z AND z<2.3 AND snMedian>5\n",
    "\"\"\"\n",
    "\n",
    "query_21=\"\"\"\n",
    "SELECT TOP 10000\n",
    "specObjID, plate, mjd, fiberid, z as redshift\n",
    "FROM SpecObj\n",
    "WHERE class = 'QSO' AND zWarning = 0 AND 2.3<z AND z<2.6 AND snMedian>5\n",
    "\"\"\"\n",
    "\n",
    "query_22=\"\"\"\n",
    "SELECT TOP 5000\n",
    "specObjID, plate, mjd, fiberid, z as redshift\n",
    "FROM SpecObj\n",
    "WHERE class = 'QSO' AND zWarning = 0 AND 2.6<z AND z<3.0 AND snMedian>5\n",
    "\"\"\"\n",
    "\n",
    "\n",
    "query_3 = \"\"\"\n",
    "SELECT TOP 10000\n",
    "specObjID, plate, mjd, fiberid, z as redshift\n",
    "FROM SpecObj\n",
    "WHERE class = 'QSO' AND zWarning = 0 AND 3.0<z AND z<4.0 AND snMedian>4.5\n",
    "ORDER BY NEWID()\n",
    "\"\"\"\n"
   ]
  },
  {
   "cell_type": "code",
   "execution_count": 3,
   "metadata": {},
   "outputs": [],
   "source": [
    "table_1 = SDSS.query_sql(query_1, data_release=17)\n",
    "\n",
    "table_20 = SDSS.query_sql(query_20, data_release=17)\n",
    "table_21 = SDSS.query_sql(query_21, data_release=17)\n",
    "table_22 = SDSS.query_sql(query_22, data_release=17)\n",
    "\n",
    "table_3 = SDSS.query_sql(query_3, data_release=17)"
   ]
  },
  {
   "cell_type": "code",
   "execution_count": 4,
   "metadata": {},
   "outputs": [
    {
     "data": {
      "text/html": [
       "<div><i>Table length=10000</i>\n",
       "<table id=\"table2415436336144\" class=\"table-striped table-bordered table-condensed\">\n",
       "<thead><tr><th>specObjID</th><th>plate</th><th>mjd</th><th>fiberid</th><th>redshift</th></tr></thead>\n",
       "<thead><tr><th>uint64</th><th>int32</th><th>int32</th><th>int32</th><th>float64</th></tr></thead>\n",
       "<tr><td>1337711245666576384</td><td>1188</td><td>52650</td><td>517</td><td>1.433165</td></tr>\n",
       "<tr><td>1337712894934018048</td><td>1188</td><td>52650</td><td>523</td><td>1.334424</td></tr>\n",
       "<tr><td>9978991741423081472</td><td>8863</td><td>57724</td><td>512</td><td>1.235804</td></tr>\n",
       "<tr><td>9978993390690523136</td><td>8863</td><td>57724</td><td>518</td><td>1.376664</td></tr>\n",
       "<tr><td>9978996689225406464</td><td>8863</td><td>57724</td><td>530</td><td>1.353849</td></tr>\n",
       "<tr><td>9979007134585870336</td><td>8863</td><td>57724</td><td>568</td><td>1.03724</td></tr>\n",
       "<tr><td>9979007684341684224</td><td>8863</td><td>57724</td><td>570</td><td>1.625271</td></tr>\n",
       "<tr><td>8596424576472471552</td><td>7635</td><td>56979</td><td>650</td><td>1.562528</td></tr>\n",
       "<tr><td>8596427050373634048</td><td>7635</td><td>56979</td><td>659</td><td>1.451931</td></tr>\n",
       "<tr><td>8596428149885261824</td><td>7635</td><td>56979</td><td>663</td><td>1.75224</td></tr>\n",
       "<tr><td>...</td><td>...</td><td>...</td><td>...</td><td>...</td></tr>\n",
       "<tr><td>8741498556521928704</td><td>7764</td><td>58042</td><td>42</td><td>1.600448</td></tr>\n",
       "<tr><td>8741500755545184256</td><td>7764</td><td>58042</td><td>50</td><td>1.281112</td></tr>\n",
       "<tr><td>8741503229446346752</td><td>7764</td><td>58042</td><td>59</td><td>1.90049</td></tr>\n",
       "<tr><td>8741505153591695360</td><td>7764</td><td>58042</td><td>66</td><td>1.118725</td></tr>\n",
       "<tr><td>8741505978225416192</td><td>7764</td><td>58042</td><td>69</td><td>1.352638</td></tr>\n",
       "<tr><td>8741506253103323136</td><td>7764</td><td>58042</td><td>70</td><td>1.734264</td></tr>\n",
       "<tr><td>8741506527981230080</td><td>7764</td><td>58042</td><td>71</td><td>1.703636</td></tr>\n",
       "<tr><td>8741506802859137024</td><td>7764</td><td>58042</td><td>72</td><td>1.98114</td></tr>\n",
       "<tr><td>8741507077737043968</td><td>7764</td><td>58042</td><td>73</td><td>1.530502</td></tr>\n",
       "<tr><td>8741507627492857856</td><td>7764</td><td>58042</td><td>75</td><td>1.017678</td></tr>\n",
       "</table></div>"
      ],
      "text/plain": [
       "<Table length=10000>\n",
       "     specObjID      plate  mjd  fiberid redshift\n",
       "       uint64       int32 int32  int32  float64 \n",
       "------------------- ----- ----- ------- --------\n",
       "1337711245666576384  1188 52650     517 1.433165\n",
       "1337712894934018048  1188 52650     523 1.334424\n",
       "9978991741423081472  8863 57724     512 1.235804\n",
       "9978993390690523136  8863 57724     518 1.376664\n",
       "9978996689225406464  8863 57724     530 1.353849\n",
       "9979007134585870336  8863 57724     568  1.03724\n",
       "9979007684341684224  8863 57724     570 1.625271\n",
       "8596424576472471552  7635 56979     650 1.562528\n",
       "8596427050373634048  7635 56979     659 1.451931\n",
       "8596428149885261824  7635 56979     663  1.75224\n",
       "                ...   ...   ...     ...      ...\n",
       "8741498556521928704  7764 58042      42 1.600448\n",
       "8741500755545184256  7764 58042      50 1.281112\n",
       "8741503229446346752  7764 58042      59  1.90049\n",
       "8741505153591695360  7764 58042      66 1.118725\n",
       "8741505978225416192  7764 58042      69 1.352638\n",
       "8741506253103323136  7764 58042      70 1.734264\n",
       "8741506527981230080  7764 58042      71 1.703636\n",
       "8741506802859137024  7764 58042      72  1.98114\n",
       "8741507077737043968  7764 58042      73 1.530502\n",
       "8741507627492857856  7764 58042      75 1.017678"
      ]
     },
     "execution_count": 4,
     "metadata": {},
     "output_type": "execute_result"
    }
   ],
   "source": [
    " table_1"
   ]
  },
  {
   "cell_type": "code",
   "execution_count": 5,
   "metadata": {},
   "outputs": [
    {
     "data": {
      "text/plain": [
       "(<Table length=10000>\n",
       "      specObjID      plate  mjd  fiberid redshift\n",
       "        uint64       int32 int32  int32  float64 \n",
       " ------------------- ----- ----- ------- --------\n",
       "  311989205171464192   277 51908     418 2.005455\n",
       "  339008054727043072   301 51942     408 2.004371\n",
       "  371553606089861120   330 52370      24 2.001928\n",
       "  377292500823468032   335 52000     422 2.005731\n",
       "  383965431691503616   341 51690     122 2.003694\n",
       "  383996492894988288   341 51690     235 2.002492\n",
       "  389599879078373376   346 51693     140 2.004794\n",
       "  487590007633111040   433 51873     274 2.001184\n",
       "  520297455506450432   462 51909     479 2.000782\n",
       "  522458545594066944   464 51908     149 2.005728\n",
       "                 ...   ...   ...     ...      ...\n",
       " 9188486301745436672  8161 57127      62 2.073644\n",
       " 9197536655892043776  8169 57071     219 2.075541\n",
       " 9202179623718508544  8173 57375     726 2.079169\n",
       " 9204254946278791168  8175 57039      84 2.075892\n",
       " 9204300576011343872  8175 57039     250 2.077271\n",
       " 9206499604887263232  8177 57374      58 2.074995\n",
       " 9206750843294210048  8177 57374     972 2.077272\n",
       " 9208953166007392256  8179 57429     792 2.075753\n",
       " 9212212111157254144  8182 56993     360 2.073958\n",
       " 9213334169182296064  8183 57375     346 2.069029,\n",
       " <Table length=10000>\n",
       "      specObjID       plate  mjd  fiberid redshift\n",
       "        uint64        int32 int32  int32  float64 \n",
       " -------------------- ----- ----- ------- --------\n",
       "   801684476152276992   712 52199     159 2.322922\n",
       "   809633395532392448   719 52203     405 2.325093\n",
       "   811940171346896896   721 52228     605 2.324731\n",
       "  1325199356017534976  1177 52824      55 2.321812\n",
       "  2378027931013244928  2112 53534     463  2.32424\n",
       "  2543579473182222336  2259 53565     624 2.322844\n",
       "  2734936831538784256  2429 53799     458 2.324975\n",
       "  3174075467204421632  2819 54617     595 2.321688\n",
       "  3286557429529077760  2919 54537     202 2.324255\n",
       "  3305740335514150912  2936 54626     357 2.322791\n",
       "                  ...   ...   ...     ...      ...\n",
       " 10768133503348660224  9564 57817      97 2.341855\n",
       " 10788435435615180800  9582 57806     227  2.34417\n",
       " 10797567154679207936  9590 57813     680 2.340038\n",
       " 10798713400097789952  9591 58084     754 2.340971\n",
       " 10805477871398967296  9597 58137     787 2.338526\n",
       " 10816744841054279680  9607 58085     816 2.339001\n",
       " 10827873547978037248  9617 58084     342 2.341559\n",
       " 10829121218797656064  9618 58084     785 2.341635\n",
       " 10829173995355789312  9618 58084     977 2.339544\n",
       " 10835767762057713664  9624 57814     389 2.341214,\n",
       " <Table length=5000>\n",
       "      specObjID      plate  mjd  fiberid redshift\n",
       "        uint64       int32 int32  int32  float64 \n",
       " ------------------- ----- ----- ------- --------\n",
       "  404284408770619392   359 51821     314 2.600706\n",
       " 1256575813482997760  1116 52932     260 2.600708\n",
       " 2158428521297373184  1917 53557     285 2.603283\n",
       " 3181887768372471808  2826 54389     344 2.602805\n",
       " 4116413842405480448  3656 55241     450 2.603691\n",
       " 4118800881545402368  3658 55205     942 2.602761\n",
       " 4132271552866834432  3670 55480     796  2.60044\n",
       " 4140005513042876416  3677 55205     260  2.60003\n",
       " 4153467932993935360  3689 55180      84 2.601466\n",
       " 4167043059346069504  3701 55540     318 2.600364\n",
       "                 ...   ...   ...     ...      ...\n",
       " 8600939726307088384  7639 57297     692 2.664747\n",
       " 8608675619822393344  7646 57570     163 2.857671\n",
       " 8608854015584000000  7646 57570     812 2.856172\n",
       " 8612114067627464704  7649 57574     384 2.664885\n",
       " 8613279000213870592  7650 57575     526 2.664818\n",
       " 8616643501281794048  7653 57306     478 2.853956\n",
       " 8623333475653801984  7659 57060     240   2.8563\n",
       " 8627937410213500928  7663 57328     605 2.850624\n",
       " 8633459436697180160  7668 57579     214 2.664883\n",
       " 8639298114124273664  7673 57329     975 2.662685)"
      ]
     },
     "execution_count": 5,
     "metadata": {},
     "output_type": "execute_result"
    }
   ],
   "source": [
    "table_20,table_21,table_22"
   ]
  },
  {
   "cell_type": "code",
   "execution_count": 6,
   "metadata": {},
   "outputs": [
    {
     "data": {
      "text/html": [
       "<div><i>Table length=10000</i>\n",
       "<table id=\"table2415436336912\" class=\"table-striped table-bordered table-condensed\">\n",
       "<thead><tr><th>specObjID</th><th>plate</th><th>mjd</th><th>fiberid</th><th>redshift</th></tr></thead>\n",
       "<thead><tr><th>uint64</th><th>int32</th><th>int32</th><th>int32</th><th>float64</th></tr></thead>\n",
       "<tr><td>4512768544694622208</td><td>4008</td><td>55356</td><td>588</td><td>3.134465</td></tr>\n",
       "<tr><td>9965340475501336576</td><td>8851</td><td>57460</td><td>1</td><td>3.038138</td></tr>\n",
       "<tr><td>4705345812779259904</td><td>4179</td><td>55684</td><td>764</td><td>3.041988</td></tr>\n",
       "<tr><td>10754625178317379584</td><td>9552</td><td>57814</td><td>106</td><td>3.120119</td></tr>\n",
       "<tr><td>5484456457780090880</td><td>4871</td><td>55928</td><td>720</td><td>3.0486</td></tr>\n",
       "<tr><td>6041639473217034240</td><td>5366</td><td>55958</td><td>220</td><td>3.190507</td></tr>\n",
       "<tr><td>5684837507075954688</td><td>5049</td><td>56103</td><td>614</td><td>3.034666</td></tr>\n",
       "<tr><td>4267416920519890944</td><td>3790</td><td>55208</td><td>932</td><td>3.160798</td></tr>\n",
       "<tr><td>5470939057734572032</td><td>4859</td><td>55684</td><td>696</td><td>3.789167</td></tr>\n",
       "<tr><td>4751498359134771200</td><td>4220</td><td>55447</td><td>730</td><td>3.067813</td></tr>\n",
       "<tr><td>...</td><td>...</td><td>...</td><td>...</td><td>...</td></tr>\n",
       "<tr><td>7459264561100904448</td><td>6625</td><td>56386</td><td>646</td><td>3.509054</td></tr>\n",
       "<tr><td>12771090481330542592</td><td>11343</td><td>58430</td><td>28</td><td>3.174786</td></tr>\n",
       "<tr><td>5360413399275821056</td><td>4761</td><td>55633</td><td>14</td><td>3.285485</td></tr>\n",
       "<tr><td>1449167641171224576</td><td>1287</td><td>52728</td><td>489</td><td>3.707885</td></tr>\n",
       "<tr><td>4597278109343176704</td><td>4083</td><td>55441</td><td>832</td><td>3.583079</td></tr>\n",
       "<tr><td>6903050762731149312</td><td>6131</td><td>56211</td><td>576</td><td>3.089228</td></tr>\n",
       "<tr><td>4572523703230027776</td><td>4061</td><td>55362</td><td>888</td><td>3.299594</td></tr>\n",
       "<tr><td>9269611580928317440</td><td>8233</td><td>57887</td><td>282</td><td>3.945267</td></tr>\n",
       "<tr><td>4746851823499106304</td><td>4216</td><td>55477</td><td>210</td><td>3.032743</td></tr>\n",
       "<tr><td>9205507841322145792</td><td>8176</td><td>57131</td><td>546</td><td>3.177093</td></tr>\n",
       "</table></div>"
      ],
      "text/plain": [
       "<Table length=10000>\n",
       "     specObjID       plate  mjd  fiberid redshift\n",
       "       uint64        int32 int32  int32  float64 \n",
       "-------------------- ----- ----- ------- --------\n",
       " 4512768544694622208  4008 55356     588 3.134465\n",
       " 9965340475501336576  8851 57460       1 3.038138\n",
       " 4705345812779259904  4179 55684     764 3.041988\n",
       "10754625178317379584  9552 57814     106 3.120119\n",
       " 5484456457780090880  4871 55928     720   3.0486\n",
       " 6041639473217034240  5366 55958     220 3.190507\n",
       " 5684837507075954688  5049 56103     614 3.034666\n",
       " 4267416920519890944  3790 55208     932 3.160798\n",
       " 5470939057734572032  4859 55684     696 3.789167\n",
       " 4751498359134771200  4220 55447     730 3.067813\n",
       "                 ...   ...   ...     ...      ...\n",
       " 7459264561100904448  6625 56386     646 3.509054\n",
       "12771090481330542592 11343 58430      28 3.174786\n",
       " 5360413399275821056  4761 55633      14 3.285485\n",
       " 1449167641171224576  1287 52728     489 3.707885\n",
       " 4597278109343176704  4083 55441     832 3.583079\n",
       " 6903050762731149312  6131 56211     576 3.089228\n",
       " 4572523703230027776  4061 55362     888 3.299594\n",
       " 9269611580928317440  8233 57887     282 3.945267\n",
       " 4746851823499106304  4216 55477     210 3.032743\n",
       " 9205507841322145792  8176 57131     546 3.177093"
      ]
     },
     "execution_count": 6,
     "metadata": {},
     "output_type": "execute_result"
    }
   ],
   "source": [
    "table_3"
   ]
  },
  {
   "cell_type": "code",
   "execution_count": 7,
   "metadata": {},
   "outputs": [
    {
     "name": "stdout",
     "output_type": "stream",
     "text": [
      "1.000003 1.99975\n",
      "\n",
      "2.000009 2.20926\n",
      "2.300006 2.48754\n",
      "2.600001 2.901236\n",
      "\n",
      "3.000005 3.999379\n"
     ]
    }
   ],
   "source": [
    "print(np.min(table_1['redshift']), np.max(table_1['redshift']))\n",
    "print()\n",
    "print(np.min(table_20['redshift']), np.max(table_20['redshift']))\n",
    "print(np.min(table_21['redshift']), np.max(table_21['redshift']))\n",
    "print(np.min(table_22['redshift']), np.max(table_22['redshift']))\n",
    "print()\n",
    "print(np.min(table_3['redshift']), np.max(table_3['redshift']))"
   ]
  },
  {
   "cell_type": "code",
   "execution_count": 8,
   "metadata": {},
   "outputs": [],
   "source": [
    "df_table_1 =  table_1.to_pandas()\n",
    "\n",
    "df_table_20 = table_20.to_pandas()\n",
    "df_table_21 = table_21.to_pandas()\n",
    "df_table_22 = table_22.to_pandas()\n",
    "\n",
    "df_table_3 =  table_3.to_pandas()"
   ]
  },
  {
   "cell_type": "code",
   "execution_count": 9,
   "metadata": {},
   "outputs": [],
   "source": [
    "df_combined = pd.concat([df_table_1, df_table_20,df_table_21,df_table_22, df_table_3], ignore_index=True)\n",
    "#df_combined = pd.concat([df_table_21,df_table_22, df_table_3], ignore_index=True)"
   ]
  },
  {
   "cell_type": "code",
   "execution_count": 10,
   "metadata": {},
   "outputs": [
    {
     "data": {
      "text/plain": [
       "(45000, 5)"
      ]
     },
     "execution_count": 10,
     "metadata": {},
     "output_type": "execute_result"
    }
   ],
   "source": [
    "df_combined.shape"
   ]
  },
  {
   "cell_type": "code",
   "execution_count": 11,
   "metadata": {},
   "outputs": [
    {
     "data": {
      "text/html": [
       "<div>\n",
       "<style scoped>\n",
       "    .dataframe tbody tr th:only-of-type {\n",
       "        vertical-align: middle;\n",
       "    }\n",
       "\n",
       "    .dataframe tbody tr th {\n",
       "        vertical-align: top;\n",
       "    }\n",
       "\n",
       "    .dataframe thead th {\n",
       "        text-align: right;\n",
       "    }\n",
       "</style>\n",
       "<table border=\"1\" class=\"dataframe\">\n",
       "  <thead>\n",
       "    <tr style=\"text-align: right;\">\n",
       "      <th></th>\n",
       "      <th>specObjID</th>\n",
       "      <th>plate</th>\n",
       "      <th>mjd</th>\n",
       "      <th>fiberid</th>\n",
       "      <th>redshift</th>\n",
       "    </tr>\n",
       "  </thead>\n",
       "  <tbody>\n",
       "    <tr>\n",
       "      <th>0</th>\n",
       "      <td>1337711245666576384</td>\n",
       "      <td>1188</td>\n",
       "      <td>52650</td>\n",
       "      <td>517</td>\n",
       "      <td>1.433165</td>\n",
       "    </tr>\n",
       "    <tr>\n",
       "      <th>1</th>\n",
       "      <td>1337712894934018048</td>\n",
       "      <td>1188</td>\n",
       "      <td>52650</td>\n",
       "      <td>523</td>\n",
       "      <td>1.334424</td>\n",
       "    </tr>\n",
       "    <tr>\n",
       "      <th>2</th>\n",
       "      <td>9978991741423081472</td>\n",
       "      <td>8863</td>\n",
       "      <td>57724</td>\n",
       "      <td>512</td>\n",
       "      <td>1.235804</td>\n",
       "    </tr>\n",
       "    <tr>\n",
       "      <th>3</th>\n",
       "      <td>9978993390690523136</td>\n",
       "      <td>8863</td>\n",
       "      <td>57724</td>\n",
       "      <td>518</td>\n",
       "      <td>1.376664</td>\n",
       "    </tr>\n",
       "    <tr>\n",
       "      <th>4</th>\n",
       "      <td>9978996689225406464</td>\n",
       "      <td>8863</td>\n",
       "      <td>57724</td>\n",
       "      <td>530</td>\n",
       "      <td>1.353849</td>\n",
       "    </tr>\n",
       "    <tr>\n",
       "      <th>...</th>\n",
       "      <td>...</td>\n",
       "      <td>...</td>\n",
       "      <td>...</td>\n",
       "      <td>...</td>\n",
       "      <td>...</td>\n",
       "    </tr>\n",
       "    <tr>\n",
       "      <th>44995</th>\n",
       "      <td>6903050762731149312</td>\n",
       "      <td>6131</td>\n",
       "      <td>56211</td>\n",
       "      <td>576</td>\n",
       "      <td>3.089228</td>\n",
       "    </tr>\n",
       "    <tr>\n",
       "      <th>44996</th>\n",
       "      <td>4572523703230027776</td>\n",
       "      <td>4061</td>\n",
       "      <td>55362</td>\n",
       "      <td>888</td>\n",
       "      <td>3.299594</td>\n",
       "    </tr>\n",
       "    <tr>\n",
       "      <th>44997</th>\n",
       "      <td>9269611580928317440</td>\n",
       "      <td>8233</td>\n",
       "      <td>57887</td>\n",
       "      <td>282</td>\n",
       "      <td>3.945267</td>\n",
       "    </tr>\n",
       "    <tr>\n",
       "      <th>44998</th>\n",
       "      <td>4746851823499106304</td>\n",
       "      <td>4216</td>\n",
       "      <td>55477</td>\n",
       "      <td>210</td>\n",
       "      <td>3.032743</td>\n",
       "    </tr>\n",
       "    <tr>\n",
       "      <th>44999</th>\n",
       "      <td>9205507841322145792</td>\n",
       "      <td>8176</td>\n",
       "      <td>57131</td>\n",
       "      <td>546</td>\n",
       "      <td>3.177093</td>\n",
       "    </tr>\n",
       "  </tbody>\n",
       "</table>\n",
       "<p>45000 rows × 5 columns</p>\n",
       "</div>"
      ],
      "text/plain": [
       "                 specObjID  plate    mjd  fiberid  redshift\n",
       "0      1337711245666576384   1188  52650      517  1.433165\n",
       "1      1337712894934018048   1188  52650      523  1.334424\n",
       "2      9978991741423081472   8863  57724      512  1.235804\n",
       "3      9978993390690523136   8863  57724      518  1.376664\n",
       "4      9978996689225406464   8863  57724      530  1.353849\n",
       "...                    ...    ...    ...      ...       ...\n",
       "44995  6903050762731149312   6131  56211      576  3.089228\n",
       "44996  4572523703230027776   4061  55362      888  3.299594\n",
       "44997  9269611580928317440   8233  57887      282  3.945267\n",
       "44998  4746851823499106304   4216  55477      210  3.032743\n",
       "44999  9205507841322145792   8176  57131      546  3.177093\n",
       "\n",
       "[45000 rows x 5 columns]"
      ]
     },
     "execution_count": 11,
     "metadata": {},
     "output_type": "execute_result"
    }
   ],
   "source": [
    "df_combined"
   ]
  },
  {
   "cell_type": "code",
   "execution_count": null,
   "metadata": {},
   "outputs": [],
   "source": []
  },
  {
   "cell_type": "code",
   "execution_count": null,
   "metadata": {},
   "outputs": [],
   "source": []
  },
  {
   "cell_type": "code",
   "execution_count": 420,
   "metadata": {},
   "outputs": [],
   "source": [
    "#df_combined consist of 60000 quasars between redshift 1 and 4"
   ]
  },
  {
   "cell_type": "code",
   "execution_count": 421,
   "metadata": {},
   "outputs": [],
   "source": [
    "#Now to extract the spectrum of each source and save it as a dataframe"
   ]
  },
  {
   "cell_type": "code",
   "execution_count": 422,
   "metadata": {},
   "outputs": [],
   "source": [
    "def query_with_retries(plate,mjd,fiberID, retries=3, delay=60):\n",
    "    for i in range(retries):\n",
    "        try:\n",
    "            return SDSS.get_spectra(plate = plate,mjd=mjd,fiberID=fiberID, data_release=18, timeout=120, cache=False)\n",
    "        except TimeoutError:\n",
    "            print(f\"Timeout error. Retrying {i+1}/{retries} in {delay} seconds...\")\n",
    "            time.sleep(delay)\n",
    "        except RemoteDisconnected:\n",
    "            print(f\"Remote disconnected. Retrying {i+1}/{retries} in {delay} seconds...\")\n",
    "            time.sleep(delay)\n",
    "            delay *= 2  # Exponential backoff\n",
    "    raise TimeoutError(\"Failed after multiple retries\")"
   ]
  },
  {
   "cell_type": "code",
   "execution_count": 22,
   "metadata": {},
   "outputs": [
    {
     "name": "stdout",
     "output_type": "stream",
     "text": [
      "Step 1/45\n"
     ]
    },
    {
     "data": {
      "application/vnd.jupyter.widget-view+json": {
       "model_id": "616c319510974ff5a7632e1e715a2da3",
       "version_major": 2,
       "version_minor": 0
      },
      "text/plain": [
       "HBox(children=(FloatProgress(value=0.0, max=1000.0), HTML(value='')))"
      ]
     },
     "metadata": {},
     "output_type": "display_data"
    },
    {
     "name": "stdout",
     "output_type": "stream",
     "text": [
      "\n"
     ]
    },
    {
     "ename": "KeyboardInterrupt",
     "evalue": "",
     "output_type": "error",
     "traceback": [
      "\u001b[1;31m---------------------------------------------------------------------------\u001b[0m",
      "\u001b[1;31mKeyboardInterrupt\u001b[0m                         Traceback (most recent call last)",
      "\u001b[1;32m<ipython-input-22-b255522f9a21>\u001b[0m in \u001b[0;36m<module>\u001b[1;34m\u001b[0m\n\u001b[0;32m     13\u001b[0m             \u001b[1;31m#sp = query_with_retries(plate=df_combined['plate'][i], mjd=df_combined['mjd'][i], fiberID=df_combined['fiberid'][i])\u001b[0m\u001b[1;33m\u001b[0m\u001b[1;33m\u001b[0m\u001b[1;33m\u001b[0m\u001b[0m\n\u001b[0;32m     14\u001b[0m         \u001b[1;32mtry\u001b[0m\u001b[1;33m:\u001b[0m\u001b[1;33m\u001b[0m\u001b[1;33m\u001b[0m\u001b[0m\n\u001b[1;32m---> 15\u001b[1;33m             \u001b[0mSDSS\u001b[0m\u001b[1;33m.\u001b[0m\u001b[0mget_spectra\u001b[0m\u001b[1;33m(\u001b[0m\u001b[0mplate\u001b[0m \u001b[1;33m=\u001b[0m \u001b[0mdf_combined\u001b[0m\u001b[1;33m[\u001b[0m\u001b[1;34m'plate'\u001b[0m\u001b[1;33m]\u001b[0m\u001b[1;33m[\u001b[0m\u001b[0mi\u001b[0m\u001b[1;33m]\u001b[0m\u001b[1;33m,\u001b[0m\u001b[0mmjd\u001b[0m\u001b[1;33m=\u001b[0m\u001b[0mdf_combined\u001b[0m\u001b[1;33m[\u001b[0m\u001b[1;34m'mjd'\u001b[0m\u001b[1;33m]\u001b[0m\u001b[1;33m[\u001b[0m\u001b[0mi\u001b[0m\u001b[1;33m]\u001b[0m\u001b[1;33m,\u001b[0m\u001b[0mfiberID\u001b[0m\u001b[1;33m=\u001b[0m\u001b[0mdf_combined\u001b[0m\u001b[1;33m[\u001b[0m\u001b[1;34m'fiberid'\u001b[0m\u001b[1;33m]\u001b[0m\u001b[1;33m[\u001b[0m\u001b[0mi\u001b[0m\u001b[1;33m]\u001b[0m\u001b[1;33m,\u001b[0m \u001b[0mdata_release\u001b[0m\u001b[1;33m=\u001b[0m\u001b[1;36m17\u001b[0m\u001b[1;33m,\u001b[0m \u001b[0mtimeout\u001b[0m\u001b[1;33m=\u001b[0m\u001b[1;36m60\u001b[0m\u001b[1;33m,\u001b[0m \u001b[0mcache\u001b[0m\u001b[1;33m=\u001b[0m\u001b[1;32mFalse\u001b[0m\u001b[1;33m)\u001b[0m\u001b[1;33m\u001b[0m\u001b[1;33m\u001b[0m\u001b[0m\n\u001b[0m\u001b[0;32m     16\u001b[0m         \u001b[1;32mexcept\u001b[0m \u001b[0mTimeoutError\u001b[0m \u001b[1;32mor\u001b[0m \u001b[0mRemoteDisconnected\u001b[0m \u001b[1;32mor\u001b[0m \u001b[0mContentTooShortError\u001b[0m\u001b[1;33m:\u001b[0m\u001b[1;33m\u001b[0m\u001b[1;33m\u001b[0m\u001b[0m\n\u001b[0;32m     17\u001b[0m             \u001b[1;31m#print(\"TimeoutError or RemoteDisconnected or ContentTooShortError\")\u001b[0m\u001b[1;33m\u001b[0m\u001b[1;33m\u001b[0m\u001b[1;33m\u001b[0m\u001b[0m\n",
      "\u001b[1;32m~\\anaconda3\\lib\\site-packages\\astroquery\\sdss\\core.py\u001b[0m in \u001b[0;36mget_spectra\u001b[1;34m(self, coordinates, radius, matches, plate, fiberID, mjd, timeout, get_query_payload, data_release, cache, show_progress)\u001b[0m\n\u001b[0;32m    780\u001b[0m                 \u001b[1;32mreturn\u001b[0m \u001b[0mreadable_objs\u001b[0m\u001b[1;33m\u001b[0m\u001b[1;33m\u001b[0m\u001b[0m\n\u001b[0;32m    781\u001b[0m             \u001b[1;32melse\u001b[0m\u001b[1;33m:\u001b[0m\u001b[1;33m\u001b[0m\u001b[1;33m\u001b[0m\u001b[0m\n\u001b[1;32m--> 782\u001b[1;33m                 \u001b[1;32mreturn\u001b[0m \u001b[1;33m[\u001b[0m\u001b[0mobj\u001b[0m\u001b[1;33m.\u001b[0m\u001b[0mget_fits\u001b[0m\u001b[1;33m(\u001b[0m\u001b[1;33m)\u001b[0m \u001b[1;32mfor\u001b[0m \u001b[0mobj\u001b[0m \u001b[1;32min\u001b[0m \u001b[0mreadable_objs\u001b[0m\u001b[1;33m]\u001b[0m\u001b[1;33m\u001b[0m\u001b[1;33m\u001b[0m\u001b[0m\n\u001b[0m\u001b[0;32m    783\u001b[0m \u001b[1;33m\u001b[0m\u001b[0m\n\u001b[0;32m    784\u001b[0m     def get_images_async(self, coordinates=None, radius=2. * u.arcsec,\n",
      "\u001b[1;32m~\\anaconda3\\lib\\site-packages\\astroquery\\sdss\\core.py\u001b[0m in \u001b[0;36m<listcomp>\u001b[1;34m(.0)\u001b[0m\n\u001b[0;32m    780\u001b[0m                 \u001b[1;32mreturn\u001b[0m \u001b[0mreadable_objs\u001b[0m\u001b[1;33m\u001b[0m\u001b[1;33m\u001b[0m\u001b[0m\n\u001b[0;32m    781\u001b[0m             \u001b[1;32melse\u001b[0m\u001b[1;33m:\u001b[0m\u001b[1;33m\u001b[0m\u001b[1;33m\u001b[0m\u001b[0m\n\u001b[1;32m--> 782\u001b[1;33m                 \u001b[1;32mreturn\u001b[0m \u001b[1;33m[\u001b[0m\u001b[0mobj\u001b[0m\u001b[1;33m.\u001b[0m\u001b[0mget_fits\u001b[0m\u001b[1;33m(\u001b[0m\u001b[1;33m)\u001b[0m \u001b[1;32mfor\u001b[0m \u001b[0mobj\u001b[0m \u001b[1;32min\u001b[0m \u001b[0mreadable_objs\u001b[0m\u001b[1;33m]\u001b[0m\u001b[1;33m\u001b[0m\u001b[1;33m\u001b[0m\u001b[0m\n\u001b[0m\u001b[0;32m    783\u001b[0m \u001b[1;33m\u001b[0m\u001b[0m\n\u001b[0;32m    784\u001b[0m     def get_images_async(self, coordinates=None, radius=2. * u.arcsec,\n",
      "\u001b[1;32m~\\anaconda3\\lib\\site-packages\\astroquery\\utils\\commons.py\u001b[0m in \u001b[0;36mget_fits\u001b[1;34m(self)\u001b[0m\n\u001b[0;32m    272\u001b[0m         \u001b[1;32mand\u001b[0m \u001b[1;32mreturn\u001b[0m \u001b[0mthe\u001b[0m \u001b[0mfile\u001b[0m \u001b[0mparsed\u001b[0m \u001b[1;32mas\u001b[0m \u001b[0mFITS\u001b[0m \u001b[0mHDUList\u001b[0m\u001b[1;33m\u001b[0m\u001b[1;33m\u001b[0m\u001b[0m\n\u001b[0;32m    273\u001b[0m         \"\"\"\n\u001b[1;32m--> 274\u001b[1;33m         \u001b[0mfiledata\u001b[0m \u001b[1;33m=\u001b[0m \u001b[0mself\u001b[0m\u001b[1;33m.\u001b[0m\u001b[0mget_string\u001b[0m\u001b[1;33m(\u001b[0m\u001b[1;33m)\u001b[0m\u001b[1;33m\u001b[0m\u001b[1;33m\u001b[0m\u001b[0m\n\u001b[0m\u001b[0;32m    275\u001b[0m \u001b[1;33m\u001b[0m\u001b[0m\n\u001b[0;32m    276\u001b[0m         \u001b[1;32mif\u001b[0m \u001b[0mlen\u001b[0m\u001b[1;33m(\u001b[0m\u001b[0mfiledata\u001b[0m\u001b[1;33m)\u001b[0m \u001b[1;33m==\u001b[0m \u001b[1;36m0\u001b[0m\u001b[1;33m:\u001b[0m\u001b[1;33m\u001b[0m\u001b[1;33m\u001b[0m\u001b[0m\n",
      "\u001b[1;32m~\\anaconda3\\lib\\site-packages\\astroquery\\utils\\commons.py\u001b[0m in \u001b[0;36mget_string\u001b[1;34m(self)\u001b[0m\n\u001b[0;32m    319\u001b[0m         \u001b[1;32mif\u001b[0m \u001b[1;32mnot\u001b[0m \u001b[0mhasattr\u001b[0m\u001b[1;33m(\u001b[0m\u001b[0mself\u001b[0m\u001b[1;33m,\u001b[0m \u001b[1;34m'_string'\u001b[0m\u001b[1;33m)\u001b[0m\u001b[1;33m:\u001b[0m\u001b[1;33m\u001b[0m\u001b[1;33m\u001b[0m\u001b[0m\n\u001b[0;32m    320\u001b[0m             \u001b[1;32mtry\u001b[0m\u001b[1;33m:\u001b[0m\u001b[1;33m\u001b[0m\u001b[1;33m\u001b[0m\u001b[0m\n\u001b[1;32m--> 321\u001b[1;33m                 \u001b[1;32mwith\u001b[0m \u001b[0mself\u001b[0m\u001b[1;33m.\u001b[0m\u001b[0m_readable_object\u001b[0m \u001b[1;32mas\u001b[0m \u001b[0mf\u001b[0m\u001b[1;33m:\u001b[0m\u001b[1;33m\u001b[0m\u001b[1;33m\u001b[0m\u001b[0m\n\u001b[0m\u001b[0;32m    322\u001b[0m                     \u001b[0mdata\u001b[0m \u001b[1;33m=\u001b[0m \u001b[0mf\u001b[0m\u001b[1;33m.\u001b[0m\u001b[0mread\u001b[0m\u001b[1;33m(\u001b[0m\u001b[1;33m)\u001b[0m\u001b[1;33m\u001b[0m\u001b[1;33m\u001b[0m\u001b[0m\n\u001b[0;32m    323\u001b[0m                     \u001b[0mself\u001b[0m\u001b[1;33m.\u001b[0m\u001b[0m_string\u001b[0m \u001b[1;33m=\u001b[0m \u001b[0mdata\u001b[0m\u001b[1;33m\u001b[0m\u001b[1;33m\u001b[0m\u001b[0m\n",
      "\u001b[1;32m~\\anaconda3\\lib\\contextlib.py\u001b[0m in \u001b[0;36m__enter__\u001b[1;34m(self)\u001b[0m\n\u001b[0;32m    111\u001b[0m         \u001b[1;32mdel\u001b[0m \u001b[0mself\u001b[0m\u001b[1;33m.\u001b[0m\u001b[0margs\u001b[0m\u001b[1;33m,\u001b[0m \u001b[0mself\u001b[0m\u001b[1;33m.\u001b[0m\u001b[0mkwds\u001b[0m\u001b[1;33m,\u001b[0m \u001b[0mself\u001b[0m\u001b[1;33m.\u001b[0m\u001b[0mfunc\u001b[0m\u001b[1;33m\u001b[0m\u001b[1;33m\u001b[0m\u001b[0m\n\u001b[0;32m    112\u001b[0m         \u001b[1;32mtry\u001b[0m\u001b[1;33m:\u001b[0m\u001b[1;33m\u001b[0m\u001b[1;33m\u001b[0m\u001b[0m\n\u001b[1;32m--> 113\u001b[1;33m             \u001b[1;32mreturn\u001b[0m \u001b[0mnext\u001b[0m\u001b[1;33m(\u001b[0m\u001b[0mself\u001b[0m\u001b[1;33m.\u001b[0m\u001b[0mgen\u001b[0m\u001b[1;33m)\u001b[0m\u001b[1;33m\u001b[0m\u001b[1;33m\u001b[0m\u001b[0m\n\u001b[0m\u001b[0;32m    114\u001b[0m         \u001b[1;32mexcept\u001b[0m \u001b[0mStopIteration\u001b[0m\u001b[1;33m:\u001b[0m\u001b[1;33m\u001b[0m\u001b[1;33m\u001b[0m\u001b[0m\n\u001b[0;32m    115\u001b[0m             \u001b[1;32mraise\u001b[0m \u001b[0mRuntimeError\u001b[0m\u001b[1;33m(\u001b[0m\u001b[1;34m\"generator didn't yield\"\u001b[0m\u001b[1;33m)\u001b[0m \u001b[1;32mfrom\u001b[0m \u001b[1;32mNone\u001b[0m\u001b[1;33m\u001b[0m\u001b[1;33m\u001b[0m\u001b[0m\n",
      "\u001b[1;32m~\\anaconda3\\lib\\site-packages\\astropy\\utils\\data.py\u001b[0m in \u001b[0;36mget_readable_fileobj\u001b[1;34m(name_or_obj, encoding, cache, show_progress, remote_timeout, sources, http_headers)\u001b[0m\n\u001b[0;32m    265\u001b[0m         \u001b[0mis_url\u001b[0m \u001b[1;33m=\u001b[0m \u001b[0m_is_url\u001b[0m\u001b[1;33m(\u001b[0m\u001b[0mname_or_obj\u001b[0m\u001b[1;33m)\u001b[0m\u001b[1;33m\u001b[0m\u001b[1;33m\u001b[0m\u001b[0m\n\u001b[0;32m    266\u001b[0m         \u001b[1;32mif\u001b[0m \u001b[0mis_url\u001b[0m\u001b[1;33m:\u001b[0m\u001b[1;33m\u001b[0m\u001b[1;33m\u001b[0m\u001b[0m\n\u001b[1;32m--> 267\u001b[1;33m             name_or_obj = download_file(\n\u001b[0m\u001b[0;32m    268\u001b[0m                 \u001b[0mname_or_obj\u001b[0m\u001b[1;33m,\u001b[0m \u001b[0mcache\u001b[0m\u001b[1;33m=\u001b[0m\u001b[0mcache\u001b[0m\u001b[1;33m,\u001b[0m \u001b[0mshow_progress\u001b[0m\u001b[1;33m=\u001b[0m\u001b[0mshow_progress\u001b[0m\u001b[1;33m,\u001b[0m\u001b[1;33m\u001b[0m\u001b[1;33m\u001b[0m\u001b[0m\n\u001b[0;32m    269\u001b[0m                 \u001b[0mtimeout\u001b[0m\u001b[1;33m=\u001b[0m\u001b[0mremote_timeout\u001b[0m\u001b[1;33m,\u001b[0m \u001b[0msources\u001b[0m\u001b[1;33m=\u001b[0m\u001b[0msources\u001b[0m\u001b[1;33m,\u001b[0m\u001b[1;33m\u001b[0m\u001b[1;33m\u001b[0m\u001b[0m\n",
      "\u001b[1;32m~\\anaconda3\\lib\\site-packages\\astropy\\utils\\data.py\u001b[0m in \u001b[0;36mdownload_file\u001b[1;34m(remote_url, cache, show_progress, timeout, sources, pkgname, http_headers, ssl_context, allow_insecure)\u001b[0m\n\u001b[0;32m   1357\u001b[0m     \u001b[1;32mfor\u001b[0m \u001b[0msource_url\u001b[0m \u001b[1;32min\u001b[0m \u001b[0msources\u001b[0m\u001b[1;33m:\u001b[0m\u001b[1;33m\u001b[0m\u001b[1;33m\u001b[0m\u001b[0m\n\u001b[0;32m   1358\u001b[0m         \u001b[1;32mtry\u001b[0m\u001b[1;33m:\u001b[0m\u001b[1;33m\u001b[0m\u001b[1;33m\u001b[0m\u001b[0m\n\u001b[1;32m-> 1359\u001b[1;33m             f_name = _download_file_from_source(\n\u001b[0m\u001b[0;32m   1360\u001b[0m                     \u001b[0msource_url\u001b[0m\u001b[1;33m,\u001b[0m\u001b[1;33m\u001b[0m\u001b[1;33m\u001b[0m\u001b[0m\n\u001b[0;32m   1361\u001b[0m                     \u001b[0mtimeout\u001b[0m\u001b[1;33m=\u001b[0m\u001b[0mtimeout\u001b[0m\u001b[1;33m,\u001b[0m\u001b[1;33m\u001b[0m\u001b[1;33m\u001b[0m\u001b[0m\n",
      "\u001b[1;32m~\\anaconda3\\lib\\site-packages\\astropy\\utils\\data.py\u001b[0m in \u001b[0;36m_download_file_from_source\u001b[1;34m(source_url, show_progress, timeout, remote_url, cache, pkgname, http_headers, ftp_tls, ssl_context, allow_insecure)\u001b[0m\n\u001b[0;32m   1161\u001b[0m                 \u001b[1;32mraise\u001b[0m\u001b[1;33m\u001b[0m\u001b[1;33m\u001b[0m\u001b[0m\n\u001b[0;32m   1162\u001b[0m \u001b[1;33m\u001b[0m\u001b[0m\n\u001b[1;32m-> 1163\u001b[1;33m     with _try_url_open(source_url, timeout=timeout, http_headers=http_headers,\n\u001b[0m\u001b[0;32m   1164\u001b[0m                        \u001b[0mftp_tls\u001b[0m\u001b[1;33m=\u001b[0m\u001b[0mftp_tls\u001b[0m\u001b[1;33m,\u001b[0m \u001b[0mssl_context\u001b[0m\u001b[1;33m=\u001b[0m\u001b[0mssl_context\u001b[0m\u001b[1;33m,\u001b[0m\u001b[1;33m\u001b[0m\u001b[1;33m\u001b[0m\u001b[0m\n\u001b[0;32m   1165\u001b[0m                        allow_insecure=allow_insecure) as remote:\n",
      "\u001b[1;32m~\\anaconda3\\lib\\site-packages\\astropy\\utils\\data.py\u001b[0m in \u001b[0;36m_try_url_open\u001b[1;34m(source_url, timeout, http_headers, ftp_tls, ssl_context, allow_insecure)\u001b[0m\n\u001b[0;32m   1098\u001b[0m \u001b[1;33m\u001b[0m\u001b[0m\n\u001b[0;32m   1099\u001b[0m     \u001b[1;32mtry\u001b[0m\u001b[1;33m:\u001b[0m\u001b[1;33m\u001b[0m\u001b[1;33m\u001b[0m\u001b[0m\n\u001b[1;32m-> 1100\u001b[1;33m         \u001b[1;32mreturn\u001b[0m \u001b[0murlopener\u001b[0m\u001b[1;33m.\u001b[0m\u001b[0mopen\u001b[0m\u001b[1;33m(\u001b[0m\u001b[0mreq\u001b[0m\u001b[1;33m,\u001b[0m \u001b[0mtimeout\u001b[0m\u001b[1;33m=\u001b[0m\u001b[0mtimeout\u001b[0m\u001b[1;33m)\u001b[0m\u001b[1;33m\u001b[0m\u001b[1;33m\u001b[0m\u001b[0m\n\u001b[0m\u001b[0;32m   1101\u001b[0m     \u001b[1;32mexcept\u001b[0m \u001b[0murllib\u001b[0m\u001b[1;33m.\u001b[0m\u001b[0merror\u001b[0m\u001b[1;33m.\u001b[0m\u001b[0mURLError\u001b[0m \u001b[1;32mas\u001b[0m \u001b[0mexc\u001b[0m\u001b[1;33m:\u001b[0m\u001b[1;33m\u001b[0m\u001b[1;33m\u001b[0m\u001b[0m\n\u001b[0;32m   1102\u001b[0m         \u001b[0mreason\u001b[0m \u001b[1;33m=\u001b[0m \u001b[0mexc\u001b[0m\u001b[1;33m.\u001b[0m\u001b[0mreason\u001b[0m\u001b[1;33m\u001b[0m\u001b[1;33m\u001b[0m\u001b[0m\n",
      "\u001b[1;32m~\\anaconda3\\lib\\urllib\\request.py\u001b[0m in \u001b[0;36mopen\u001b[1;34m(self, fullurl, data, timeout)\u001b[0m\n\u001b[0;32m    523\u001b[0m \u001b[1;33m\u001b[0m\u001b[0m\n\u001b[0;32m    524\u001b[0m         \u001b[0msys\u001b[0m\u001b[1;33m.\u001b[0m\u001b[0maudit\u001b[0m\u001b[1;33m(\u001b[0m\u001b[1;34m'urllib.Request'\u001b[0m\u001b[1;33m,\u001b[0m \u001b[0mreq\u001b[0m\u001b[1;33m.\u001b[0m\u001b[0mfull_url\u001b[0m\u001b[1;33m,\u001b[0m \u001b[0mreq\u001b[0m\u001b[1;33m.\u001b[0m\u001b[0mdata\u001b[0m\u001b[1;33m,\u001b[0m \u001b[0mreq\u001b[0m\u001b[1;33m.\u001b[0m\u001b[0mheaders\u001b[0m\u001b[1;33m,\u001b[0m \u001b[0mreq\u001b[0m\u001b[1;33m.\u001b[0m\u001b[0mget_method\u001b[0m\u001b[1;33m(\u001b[0m\u001b[1;33m)\u001b[0m\u001b[1;33m)\u001b[0m\u001b[1;33m\u001b[0m\u001b[1;33m\u001b[0m\u001b[0m\n\u001b[1;32m--> 525\u001b[1;33m         \u001b[0mresponse\u001b[0m \u001b[1;33m=\u001b[0m \u001b[0mself\u001b[0m\u001b[1;33m.\u001b[0m\u001b[0m_open\u001b[0m\u001b[1;33m(\u001b[0m\u001b[0mreq\u001b[0m\u001b[1;33m,\u001b[0m \u001b[0mdata\u001b[0m\u001b[1;33m)\u001b[0m\u001b[1;33m\u001b[0m\u001b[1;33m\u001b[0m\u001b[0m\n\u001b[0m\u001b[0;32m    526\u001b[0m \u001b[1;33m\u001b[0m\u001b[0m\n\u001b[0;32m    527\u001b[0m         \u001b[1;31m# post-process response\u001b[0m\u001b[1;33m\u001b[0m\u001b[1;33m\u001b[0m\u001b[1;33m\u001b[0m\u001b[0m\n",
      "\u001b[1;32m~\\anaconda3\\lib\\urllib\\request.py\u001b[0m in \u001b[0;36m_open\u001b[1;34m(self, req, data)\u001b[0m\n\u001b[0;32m    540\u001b[0m \u001b[1;33m\u001b[0m\u001b[0m\n\u001b[0;32m    541\u001b[0m         \u001b[0mprotocol\u001b[0m \u001b[1;33m=\u001b[0m \u001b[0mreq\u001b[0m\u001b[1;33m.\u001b[0m\u001b[0mtype\u001b[0m\u001b[1;33m\u001b[0m\u001b[1;33m\u001b[0m\u001b[0m\n\u001b[1;32m--> 542\u001b[1;33m         result = self._call_chain(self.handle_open, protocol, protocol +\n\u001b[0m\u001b[0;32m    543\u001b[0m                                   '_open', req)\n\u001b[0;32m    544\u001b[0m         \u001b[1;32mif\u001b[0m \u001b[0mresult\u001b[0m\u001b[1;33m:\u001b[0m\u001b[1;33m\u001b[0m\u001b[1;33m\u001b[0m\u001b[0m\n",
      "\u001b[1;32m~\\anaconda3\\lib\\urllib\\request.py\u001b[0m in \u001b[0;36m_call_chain\u001b[1;34m(self, chain, kind, meth_name, *args)\u001b[0m\n\u001b[0;32m    500\u001b[0m         \u001b[1;32mfor\u001b[0m \u001b[0mhandler\u001b[0m \u001b[1;32min\u001b[0m \u001b[0mhandlers\u001b[0m\u001b[1;33m:\u001b[0m\u001b[1;33m\u001b[0m\u001b[1;33m\u001b[0m\u001b[0m\n\u001b[0;32m    501\u001b[0m             \u001b[0mfunc\u001b[0m \u001b[1;33m=\u001b[0m \u001b[0mgetattr\u001b[0m\u001b[1;33m(\u001b[0m\u001b[0mhandler\u001b[0m\u001b[1;33m,\u001b[0m \u001b[0mmeth_name\u001b[0m\u001b[1;33m)\u001b[0m\u001b[1;33m\u001b[0m\u001b[1;33m\u001b[0m\u001b[0m\n\u001b[1;32m--> 502\u001b[1;33m             \u001b[0mresult\u001b[0m \u001b[1;33m=\u001b[0m \u001b[0mfunc\u001b[0m\u001b[1;33m(\u001b[0m\u001b[1;33m*\u001b[0m\u001b[0margs\u001b[0m\u001b[1;33m)\u001b[0m\u001b[1;33m\u001b[0m\u001b[1;33m\u001b[0m\u001b[0m\n\u001b[0m\u001b[0;32m    503\u001b[0m             \u001b[1;32mif\u001b[0m \u001b[0mresult\u001b[0m \u001b[1;32mis\u001b[0m \u001b[1;32mnot\u001b[0m \u001b[1;32mNone\u001b[0m\u001b[1;33m:\u001b[0m\u001b[1;33m\u001b[0m\u001b[1;33m\u001b[0m\u001b[0m\n\u001b[0;32m    504\u001b[0m                 \u001b[1;32mreturn\u001b[0m \u001b[0mresult\u001b[0m\u001b[1;33m\u001b[0m\u001b[1;33m\u001b[0m\u001b[0m\n",
      "\u001b[1;32m~\\anaconda3\\lib\\urllib\\request.py\u001b[0m in \u001b[0;36mhttps_open\u001b[1;34m(self, req)\u001b[0m\n\u001b[0;32m   1391\u001b[0m \u001b[1;33m\u001b[0m\u001b[0m\n\u001b[0;32m   1392\u001b[0m         \u001b[1;32mdef\u001b[0m \u001b[0mhttps_open\u001b[0m\u001b[1;33m(\u001b[0m\u001b[0mself\u001b[0m\u001b[1;33m,\u001b[0m \u001b[0mreq\u001b[0m\u001b[1;33m)\u001b[0m\u001b[1;33m:\u001b[0m\u001b[1;33m\u001b[0m\u001b[1;33m\u001b[0m\u001b[0m\n\u001b[1;32m-> 1393\u001b[1;33m             return self.do_open(http.client.HTTPSConnection, req,\n\u001b[0m\u001b[0;32m   1394\u001b[0m                 context=self._context, check_hostname=self._check_hostname)\n\u001b[0;32m   1395\u001b[0m \u001b[1;33m\u001b[0m\u001b[0m\n",
      "\u001b[1;32m~\\anaconda3\\lib\\urllib\\request.py\u001b[0m in \u001b[0;36mdo_open\u001b[1;34m(self, http_class, req, **http_conn_args)\u001b[0m\n\u001b[0;32m   1348\u001b[0m         \u001b[1;32mtry\u001b[0m\u001b[1;33m:\u001b[0m\u001b[1;33m\u001b[0m\u001b[1;33m\u001b[0m\u001b[0m\n\u001b[0;32m   1349\u001b[0m             \u001b[1;32mtry\u001b[0m\u001b[1;33m:\u001b[0m\u001b[1;33m\u001b[0m\u001b[1;33m\u001b[0m\u001b[0m\n\u001b[1;32m-> 1350\u001b[1;33m                 h.request(req.get_method(), req.selector, req.data, headers,\n\u001b[0m\u001b[0;32m   1351\u001b[0m                           encode_chunked=req.has_header('Transfer-encoding'))\n\u001b[0;32m   1352\u001b[0m             \u001b[1;32mexcept\u001b[0m \u001b[0mOSError\u001b[0m \u001b[1;32mas\u001b[0m \u001b[0merr\u001b[0m\u001b[1;33m:\u001b[0m \u001b[1;31m# timeout error\u001b[0m\u001b[1;33m\u001b[0m\u001b[1;33m\u001b[0m\u001b[0m\n",
      "\u001b[1;32m~\\anaconda3\\lib\\http\\client.py\u001b[0m in \u001b[0;36mrequest\u001b[1;34m(self, method, url, body, headers, encode_chunked)\u001b[0m\n\u001b[0;32m   1238\u001b[0m                 encode_chunked=False):\n\u001b[0;32m   1239\u001b[0m         \u001b[1;34m\"\"\"Send a complete request to the server.\"\"\"\u001b[0m\u001b[1;33m\u001b[0m\u001b[1;33m\u001b[0m\u001b[0m\n\u001b[1;32m-> 1240\u001b[1;33m         \u001b[0mself\u001b[0m\u001b[1;33m.\u001b[0m\u001b[0m_send_request\u001b[0m\u001b[1;33m(\u001b[0m\u001b[0mmethod\u001b[0m\u001b[1;33m,\u001b[0m \u001b[0murl\u001b[0m\u001b[1;33m,\u001b[0m \u001b[0mbody\u001b[0m\u001b[1;33m,\u001b[0m \u001b[0mheaders\u001b[0m\u001b[1;33m,\u001b[0m \u001b[0mencode_chunked\u001b[0m\u001b[1;33m)\u001b[0m\u001b[1;33m\u001b[0m\u001b[1;33m\u001b[0m\u001b[0m\n\u001b[0m\u001b[0;32m   1241\u001b[0m \u001b[1;33m\u001b[0m\u001b[0m\n\u001b[0;32m   1242\u001b[0m     \u001b[1;32mdef\u001b[0m \u001b[0m_send_request\u001b[0m\u001b[1;33m(\u001b[0m\u001b[0mself\u001b[0m\u001b[1;33m,\u001b[0m \u001b[0mmethod\u001b[0m\u001b[1;33m,\u001b[0m \u001b[0murl\u001b[0m\u001b[1;33m,\u001b[0m \u001b[0mbody\u001b[0m\u001b[1;33m,\u001b[0m \u001b[0mheaders\u001b[0m\u001b[1;33m,\u001b[0m \u001b[0mencode_chunked\u001b[0m\u001b[1;33m)\u001b[0m\u001b[1;33m:\u001b[0m\u001b[1;33m\u001b[0m\u001b[1;33m\u001b[0m\u001b[0m\n",
      "\u001b[1;32m~\\anaconda3\\lib\\http\\client.py\u001b[0m in \u001b[0;36m_send_request\u001b[1;34m(self, method, url, body, headers, encode_chunked)\u001b[0m\n\u001b[0;32m   1284\u001b[0m             \u001b[1;31m# default charset of iso-8859-1.\u001b[0m\u001b[1;33m\u001b[0m\u001b[1;33m\u001b[0m\u001b[1;33m\u001b[0m\u001b[0m\n\u001b[0;32m   1285\u001b[0m             \u001b[0mbody\u001b[0m \u001b[1;33m=\u001b[0m \u001b[0m_encode\u001b[0m\u001b[1;33m(\u001b[0m\u001b[0mbody\u001b[0m\u001b[1;33m,\u001b[0m \u001b[1;34m'body'\u001b[0m\u001b[1;33m)\u001b[0m\u001b[1;33m\u001b[0m\u001b[1;33m\u001b[0m\u001b[0m\n\u001b[1;32m-> 1286\u001b[1;33m         \u001b[0mself\u001b[0m\u001b[1;33m.\u001b[0m\u001b[0mendheaders\u001b[0m\u001b[1;33m(\u001b[0m\u001b[0mbody\u001b[0m\u001b[1;33m,\u001b[0m \u001b[0mencode_chunked\u001b[0m\u001b[1;33m=\u001b[0m\u001b[0mencode_chunked\u001b[0m\u001b[1;33m)\u001b[0m\u001b[1;33m\u001b[0m\u001b[1;33m\u001b[0m\u001b[0m\n\u001b[0m\u001b[0;32m   1287\u001b[0m \u001b[1;33m\u001b[0m\u001b[0m\n\u001b[0;32m   1288\u001b[0m     \u001b[1;32mdef\u001b[0m \u001b[0mgetresponse\u001b[0m\u001b[1;33m(\u001b[0m\u001b[0mself\u001b[0m\u001b[1;33m)\u001b[0m\u001b[1;33m:\u001b[0m\u001b[1;33m\u001b[0m\u001b[1;33m\u001b[0m\u001b[0m\n",
      "\u001b[1;32m~\\anaconda3\\lib\\http\\client.py\u001b[0m in \u001b[0;36mendheaders\u001b[1;34m(self, message_body, encode_chunked)\u001b[0m\n\u001b[0;32m   1233\u001b[0m         \u001b[1;32melse\u001b[0m\u001b[1;33m:\u001b[0m\u001b[1;33m\u001b[0m\u001b[1;33m\u001b[0m\u001b[0m\n\u001b[0;32m   1234\u001b[0m             \u001b[1;32mraise\u001b[0m \u001b[0mCannotSendHeader\u001b[0m\u001b[1;33m(\u001b[0m\u001b[1;33m)\u001b[0m\u001b[1;33m\u001b[0m\u001b[1;33m\u001b[0m\u001b[0m\n\u001b[1;32m-> 1235\u001b[1;33m         \u001b[0mself\u001b[0m\u001b[1;33m.\u001b[0m\u001b[0m_send_output\u001b[0m\u001b[1;33m(\u001b[0m\u001b[0mmessage_body\u001b[0m\u001b[1;33m,\u001b[0m \u001b[0mencode_chunked\u001b[0m\u001b[1;33m=\u001b[0m\u001b[0mencode_chunked\u001b[0m\u001b[1;33m)\u001b[0m\u001b[1;33m\u001b[0m\u001b[1;33m\u001b[0m\u001b[0m\n\u001b[0m\u001b[0;32m   1236\u001b[0m \u001b[1;33m\u001b[0m\u001b[0m\n\u001b[0;32m   1237\u001b[0m     def request(self, method, url, body=None, headers={}, *,\n",
      "\u001b[1;32m~\\anaconda3\\lib\\http\\client.py\u001b[0m in \u001b[0;36m_send_output\u001b[1;34m(self, message_body, encode_chunked)\u001b[0m\n\u001b[0;32m   1004\u001b[0m         \u001b[0mmsg\u001b[0m \u001b[1;33m=\u001b[0m \u001b[1;34mb\"\\r\\n\"\u001b[0m\u001b[1;33m.\u001b[0m\u001b[0mjoin\u001b[0m\u001b[1;33m(\u001b[0m\u001b[0mself\u001b[0m\u001b[1;33m.\u001b[0m\u001b[0m_buffer\u001b[0m\u001b[1;33m)\u001b[0m\u001b[1;33m\u001b[0m\u001b[1;33m\u001b[0m\u001b[0m\n\u001b[0;32m   1005\u001b[0m         \u001b[1;32mdel\u001b[0m \u001b[0mself\u001b[0m\u001b[1;33m.\u001b[0m\u001b[0m_buffer\u001b[0m\u001b[1;33m[\u001b[0m\u001b[1;33m:\u001b[0m\u001b[1;33m]\u001b[0m\u001b[1;33m\u001b[0m\u001b[1;33m\u001b[0m\u001b[0m\n\u001b[1;32m-> 1006\u001b[1;33m         \u001b[0mself\u001b[0m\u001b[1;33m.\u001b[0m\u001b[0msend\u001b[0m\u001b[1;33m(\u001b[0m\u001b[0mmsg\u001b[0m\u001b[1;33m)\u001b[0m\u001b[1;33m\u001b[0m\u001b[1;33m\u001b[0m\u001b[0m\n\u001b[0m\u001b[0;32m   1007\u001b[0m \u001b[1;33m\u001b[0m\u001b[0m\n\u001b[0;32m   1008\u001b[0m         \u001b[1;32mif\u001b[0m \u001b[0mmessage_body\u001b[0m \u001b[1;32mis\u001b[0m \u001b[1;32mnot\u001b[0m \u001b[1;32mNone\u001b[0m\u001b[1;33m:\u001b[0m\u001b[1;33m\u001b[0m\u001b[1;33m\u001b[0m\u001b[0m\n",
      "\u001b[1;32m~\\anaconda3\\lib\\http\\client.py\u001b[0m in \u001b[0;36msend\u001b[1;34m(self, data)\u001b[0m\n\u001b[0;32m    944\u001b[0m         \u001b[1;32mif\u001b[0m \u001b[0mself\u001b[0m\u001b[1;33m.\u001b[0m\u001b[0msock\u001b[0m \u001b[1;32mis\u001b[0m \u001b[1;32mNone\u001b[0m\u001b[1;33m:\u001b[0m\u001b[1;33m\u001b[0m\u001b[1;33m\u001b[0m\u001b[0m\n\u001b[0;32m    945\u001b[0m             \u001b[1;32mif\u001b[0m \u001b[0mself\u001b[0m\u001b[1;33m.\u001b[0m\u001b[0mauto_open\u001b[0m\u001b[1;33m:\u001b[0m\u001b[1;33m\u001b[0m\u001b[1;33m\u001b[0m\u001b[0m\n\u001b[1;32m--> 946\u001b[1;33m                 \u001b[0mself\u001b[0m\u001b[1;33m.\u001b[0m\u001b[0mconnect\u001b[0m\u001b[1;33m(\u001b[0m\u001b[1;33m)\u001b[0m\u001b[1;33m\u001b[0m\u001b[1;33m\u001b[0m\u001b[0m\n\u001b[0m\u001b[0;32m    947\u001b[0m             \u001b[1;32melse\u001b[0m\u001b[1;33m:\u001b[0m\u001b[1;33m\u001b[0m\u001b[1;33m\u001b[0m\u001b[0m\n\u001b[0;32m    948\u001b[0m                 \u001b[1;32mraise\u001b[0m \u001b[0mNotConnected\u001b[0m\u001b[1;33m(\u001b[0m\u001b[1;33m)\u001b[0m\u001b[1;33m\u001b[0m\u001b[1;33m\u001b[0m\u001b[0m\n",
      "\u001b[1;32m~\\anaconda3\\lib\\http\\client.py\u001b[0m in \u001b[0;36mconnect\u001b[1;34m(self)\u001b[0m\n\u001b[0;32m   1400\u001b[0m             \u001b[1;34m\"Connect to a host on a given (SSL) port.\"\u001b[0m\u001b[1;33m\u001b[0m\u001b[1;33m\u001b[0m\u001b[0m\n\u001b[0;32m   1401\u001b[0m \u001b[1;33m\u001b[0m\u001b[0m\n\u001b[1;32m-> 1402\u001b[1;33m             \u001b[0msuper\u001b[0m\u001b[1;33m(\u001b[0m\u001b[1;33m)\u001b[0m\u001b[1;33m.\u001b[0m\u001b[0mconnect\u001b[0m\u001b[1;33m(\u001b[0m\u001b[1;33m)\u001b[0m\u001b[1;33m\u001b[0m\u001b[1;33m\u001b[0m\u001b[0m\n\u001b[0m\u001b[0;32m   1403\u001b[0m \u001b[1;33m\u001b[0m\u001b[0m\n\u001b[0;32m   1404\u001b[0m             \u001b[1;32mif\u001b[0m \u001b[0mself\u001b[0m\u001b[1;33m.\u001b[0m\u001b[0m_tunnel_host\u001b[0m\u001b[1;33m:\u001b[0m\u001b[1;33m\u001b[0m\u001b[1;33m\u001b[0m\u001b[0m\n",
      "\u001b[1;32m~\\anaconda3\\lib\\http\\client.py\u001b[0m in \u001b[0;36mconnect\u001b[1;34m(self)\u001b[0m\n\u001b[0;32m    915\u001b[0m     \u001b[1;32mdef\u001b[0m \u001b[0mconnect\u001b[0m\u001b[1;33m(\u001b[0m\u001b[0mself\u001b[0m\u001b[1;33m)\u001b[0m\u001b[1;33m:\u001b[0m\u001b[1;33m\u001b[0m\u001b[1;33m\u001b[0m\u001b[0m\n\u001b[0;32m    916\u001b[0m         \u001b[1;34m\"\"\"Connect to the host and port specified in __init__.\"\"\"\u001b[0m\u001b[1;33m\u001b[0m\u001b[1;33m\u001b[0m\u001b[0m\n\u001b[1;32m--> 917\u001b[1;33m         self.sock = self._create_connection(\n\u001b[0m\u001b[0;32m    918\u001b[0m             (self.host,self.port), self.timeout, self.source_address)\n\u001b[0;32m    919\u001b[0m         \u001b[0mself\u001b[0m\u001b[1;33m.\u001b[0m\u001b[0msock\u001b[0m\u001b[1;33m.\u001b[0m\u001b[0msetsockopt\u001b[0m\u001b[1;33m(\u001b[0m\u001b[0msocket\u001b[0m\u001b[1;33m.\u001b[0m\u001b[0mIPPROTO_TCP\u001b[0m\u001b[1;33m,\u001b[0m \u001b[0msocket\u001b[0m\u001b[1;33m.\u001b[0m\u001b[0mTCP_NODELAY\u001b[0m\u001b[1;33m,\u001b[0m \u001b[1;36m1\u001b[0m\u001b[1;33m)\u001b[0m\u001b[1;33m\u001b[0m\u001b[1;33m\u001b[0m\u001b[0m\n",
      "\u001b[1;32m~\\anaconda3\\lib\\socket.py\u001b[0m in \u001b[0;36mcreate_connection\u001b[1;34m(address, timeout, source_address)\u001b[0m\n\u001b[0;32m    794\u001b[0m             \u001b[1;32mif\u001b[0m \u001b[0msource_address\u001b[0m\u001b[1;33m:\u001b[0m\u001b[1;33m\u001b[0m\u001b[1;33m\u001b[0m\u001b[0m\n\u001b[0;32m    795\u001b[0m                 \u001b[0msock\u001b[0m\u001b[1;33m.\u001b[0m\u001b[0mbind\u001b[0m\u001b[1;33m(\u001b[0m\u001b[0msource_address\u001b[0m\u001b[1;33m)\u001b[0m\u001b[1;33m\u001b[0m\u001b[1;33m\u001b[0m\u001b[0m\n\u001b[1;32m--> 796\u001b[1;33m             \u001b[0msock\u001b[0m\u001b[1;33m.\u001b[0m\u001b[0mconnect\u001b[0m\u001b[1;33m(\u001b[0m\u001b[0msa\u001b[0m\u001b[1;33m)\u001b[0m\u001b[1;33m\u001b[0m\u001b[1;33m\u001b[0m\u001b[0m\n\u001b[0m\u001b[0;32m    797\u001b[0m             \u001b[1;31m# Break explicitly a reference cycle\u001b[0m\u001b[1;33m\u001b[0m\u001b[1;33m\u001b[0m\u001b[1;33m\u001b[0m\u001b[0m\n\u001b[0;32m    798\u001b[0m             \u001b[0merr\u001b[0m \u001b[1;33m=\u001b[0m \u001b[1;32mNone\u001b[0m\u001b[1;33m\u001b[0m\u001b[1;33m\u001b[0m\u001b[0m\n",
      "\u001b[1;31mKeyboardInterrupt\u001b[0m: "
     ]
    }
   ],
   "source": [
    "t = 0\n",
    "\n",
    "final_flux = []\n",
    "wavelength_check = []\n",
    "number_of_sources = df_combined.shape[0]\n",
    "\n",
    "no_spectra = [] #Those that give a None for sp \n",
    "#range(number_of_sources)\n",
    "for k in range(int(number_of_sources/1000)): #int(number_of_sources/5000)\n",
    "    print(f\"Step {k+1}/{int(number_of_sources/1000)}\")\n",
    "    for i in tqdm(range(t,1000)):\n",
    "        #print(i)\n",
    "            #sp = query_with_retries(plate=df_combined['plate'][i], mjd=df_combined['mjd'][i], fiberID=df_combined['fiberid'][i])\n",
    "        try:\n",
    "            SDSS.get_spectra(plate = df_combined['plate'][i],mjd=df_combined['mjd'][i],fiberID=df_combined['fiberid'][i], data_release=17, timeout=60, cache=False)\n",
    "        except TimeoutError or RemoteDisconnected or ContentTooShortError:\n",
    "            #print(\"TimeoutError or RemoteDisconnected or ContentTooShortError\")\n",
    "            fail = [df_combined['plate'][i], df_combined['mjd'][i], df_combined['fiberid'][i]]\n",
    "            no_spectra.append(fail)\n",
    "            del fail\n",
    "            continue\n",
    "        else:\n",
    "            #print(i)\n",
    "            sp = SDSS.get_spectra(plate = df_combined['plate'][i],mjd=df_combined['mjd'][i],fiberID=df_combined['fiberid'][i], data_release=17, timeout=120, cache=False)\n",
    "\n",
    "        if sp == None:\n",
    "            fail = [df_combined['plate'][i], df_combined['mjd'][i], df_combined['fiberid'][i]]\n",
    "            no_spectra.append(fail)\n",
    "            del fail\n",
    "            continue\n",
    "    \n",
    "        hdu_list = sp[0]\n",
    "        data = hdu_list[1].data\n",
    "        #print(i)\n",
    "    \n",
    "        wavelength = 10**data['loglam']  # Convert from log wavelength to wavelength\n",
    "        flux = data['flux']\n",
    "    \n",
    "        #Let's just choose the first 4000 elements\n",
    "        wavelength = np.asarray(wavelength[0:4000]).astype('float64')\n",
    "        flux = np.asarray(flux[0:4000]).astype('float64')\n",
    "    \n",
    "        if i == 0:\n",
    "            small_wavelength = len(wavelength)\n",
    "            final_wavelength = wavelength\n",
    "            c = 0\n",
    "    \n",
    "        if i!=0 and small_wavelength<len(wavelength):\n",
    "            final_wavelength = wavelength\n",
    "            c = i\n",
    "        \n",
    "        wavelength_check.append(wavelength)\n",
    "        final_flux.append(flux)\n",
    "    \n",
    "        del sp\n",
    "        del wavelength\n",
    "        del flux\n",
    "        del hdu_list\n",
    "        del data\n",
    "    \n",
    "    \n",
    "print(c)\n",
    "print(f\"Fail = {no_spectra}\")"
   ]
  },
  {
   "cell_type": "code",
   "execution_count": null,
   "metadata": {},
   "outputs": [],
   "source": [
    "#Fail = [[9171, 58068, 204], [1194, 52703, 386], [510, 52381, 29]]"
   ]
  },
  {
   "cell_type": "code",
   "execution_count": null,
   "metadata": {},
   "outputs": [],
   "source": [
    "final_flux"
   ]
  },
  {
   "cell_type": "code",
   "execution_count": null,
   "metadata": {},
   "outputs": [],
   "source": [
    "final_flux = np.asarray(final_flux,dtype='object')\n",
    "df_final_flux = pd.DataFrame([flux for flux in final_flux[:number_of_sources]])"
   ]
  },
  {
   "cell_type": "code",
   "execution_count": null,
   "metadata": {},
   "outputs": [],
   "source": [
    "final_flux"
   ]
  },
  {
   "cell_type": "code",
   "execution_count": null,
   "metadata": {},
   "outputs": [],
   "source": [
    "df_final_flux"
   ]
  },
  {
   "cell_type": "code",
   "execution_count": null,
   "metadata": {},
   "outputs": [],
   "source": [
    "df_final_flux['redshift'] = df_combined['redshift'][0:df_final_flux.shape[1]]\n",
    "df_final_flux[0:number_of_sources]"
   ]
  },
  {
   "cell_type": "code",
   "execution_count": null,
   "metadata": {},
   "outputs": [],
   "source": [
    "df_combined[0:number_of_sources] #To check if the redshifts are correct"
   ]
  },
  {
   "cell_type": "code",
   "execution_count": null,
   "metadata": {},
   "outputs": [],
   "source": [
    "final_wavelength = np.asarray(final_wavelength)\n",
    "df_final_wavelength = pd.DataFrame(final_wavelength,columns=['Wavelength'])\n",
    "final_wavelength,len(final_wavelength)"
   ]
  },
  {
   "cell_type": "code",
   "execution_count": null,
   "metadata": {},
   "outputs": [],
   "source": [
    "file_path_flux = r\"final_flux_for_VAE.csv\"\n",
    "df_final_flux.to_csv(file_path_flux, index=False)\n",
    "\n",
    "file_path_wavelength = r\"final_wavelength_for_VAE.csv\"\n",
    "df_final_wavelength.to_csv(file_path_wavelength,index=False)"
   ]
  },
  {
   "cell_type": "code",
   "execution_count": null,
   "metadata": {},
   "outputs": [],
   "source": [
    "len(final_wavelength)"
   ]
  },
  {
   "cell_type": "markdown",
   "metadata": {},
   "source": [
    "## \"\"\"\n",
    "for i in range(number_of_sources):\n",
    "    plt.plot(final_wavelength[0:len(final_flux[i])],final_flux[i])\n",
    "    plt.title(df_combined['redshift'][i])\n",
    "    plt.show()\n",
    "\n",
    "\"\"\""
   ]
  }
 ],
 "metadata": {
  "kernelspec": {
   "display_name": "Python 3",
   "language": "python",
   "name": "python3"
  },
  "language_info": {
   "codemirror_mode": {
    "name": "ipython",
    "version": 3
   },
   "file_extension": ".py",
   "mimetype": "text/x-python",
   "name": "python",
   "nbconvert_exporter": "python",
   "pygments_lexer": "ipython3",
   "version": "3.8.3"
  }
 },
 "nbformat": 4,
 "nbformat_minor": 4
}
